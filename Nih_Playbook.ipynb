{
 "cells": [
  {
   "cell_type": "markdown",
   "metadata": {},
   "source": [
    "## The Pill Image Recognition Challenge is a National Institutes of Health (NIH) "
   ]
  },
  {
   "cell_type": "markdown",
   "metadata": {},
   "source": [
    "the National Library of Medicine (NLM), part of NIH, seeks algorithms and software to match images of prescription oral solid-dose pharmaceutical medications (pills, including capsules and tablets). The objective of the Challenge is the development and discovery of high-quality algorithms and software that rank how well consumer images of prescription pills match reference images of pills in the authoritative NLM RxIMAGE database"
   ]
  },
  {
   "cell_type": "markdown",
   "metadata": {},
   "source": [
    "### Download the data"
   ]
  },
  {
   "cell_type": "markdown",
   "metadata": {},
   "source": [
    "Provided with 7000 images of pills taken as part of the NLM [Computational Photography Project for Pill Identification (C3PI) Project.](https://lhncbc.nlm.nih.gov/project/c3pi-computational-photography-project-pill-identification)\n",
    "\n",
    "[Consumer-quality Images (9 GB)](ftp://ftp.nlm.nih.gov/nlmdata/pir/dc.zip)\n",
    "\n",
    "[Reference Images (800 MB)](ftp://ftp.nlm.nih.gov/nlmdata/pir/dr.zip)\n",
    "\n",
    "[Ground Truth Table (600 KB)](https://pir.nlm.nih.gov/challenge/groundTruthTable.csv) \n"
   ]
  },
  {
   "cell_type": "markdown",
   "metadata": {},
   "source": [
    "### Submission requirements"
   ]
  },
  {
   "cell_type": "markdown",
   "metadata": {},
   "source": [
    "The requirement must be able to take as inputs directories containing arbitrary numbers of consumer and reference images, and produce an output matrix in which all of the reference images are ranked in order of how similar they are to each consumer image, as shown below."
   ]
  },
  {
   "cell_type": "code",
   "execution_count": 1,
   "metadata": {},
   "outputs": [],
   "source": [
    "%reload_ext autoreload\n",
    "%autoreload 2\n",
    "%matplotlib inline"
   ]
  },
  {
   "cell_type": "code",
   "execution_count": 2,
   "metadata": {},
   "outputs": [],
   "source": [
    "from fastai.imports import *\n",
    "from fastai.transforms import *\n",
    "from fastai.conv_learner import *\n",
    "from fastai.model import *\n",
    "from fastai.dataset import *\n",
    "from fastai.sgdr import *"
   ]
  },
  {
   "cell_type": "code",
   "execution_count": 3,
   "metadata": {},
   "outputs": [],
   "source": [
    "PATH = 'data/pill/'"
   ]
  },
  {
   "cell_type": "code",
   "execution_count": 4,
   "metadata": {},
   "outputs": [
    {
     "name": "stdout",
     "output_type": "stream",
     "text": [
      "\u001b[0m\u001b[01;34mdc_dr\u001b[0m/                label.csv        submission_2000.csv  \u001b[01;35mtestcap.jpg\u001b[0m\r\n",
      "\u001b[01;34mdc_test\u001b[0m/              labels_test.csv  submission.csv       \u001b[01;34mtest_train\u001b[0m/\r\n",
      "\u001b[01;34mdr_train\u001b[0m/             \u001b[01;34mmodels\u001b[0m/          submission_lite.csv  \u001b[01;34mtmp\u001b[0m/\r\n",
      "groundTruthTable.csv  nih_test.csv     \u001b[01;34mtest\u001b[0m/                \u001b[01;34mtrain\u001b[0m/\r\n"
     ]
    }
   ],
   "source": [
    "ls {PATH}"
   ]
  },
  {
   "cell_type": "markdown",
   "metadata": {},
   "source": [
    "### Data Visualization"
   ]
  },
  {
   "cell_type": "code",
   "execution_count": 5,
   "metadata": {},
   "outputs": [
    {
     "name": "stdout",
     "output_type": "stream",
     "text": [
      "7001\n",
      "5000\n"
     ]
    }
   ],
   "source": [
    "print(len(os.listdir(\"data/pill/dc_dr\"))) # this is a combination of both consumer and reference\n",
    "print(len(os.listdir(\"data/pill/dc_test\"))) # amount of images in test set"
   ]
  },
  {
   "cell_type": "code",
   "execution_count": 6,
   "metadata": {},
   "outputs": [],
   "source": [
    "trainFrame = pd.read_csv(\"data/pill/groundTruthTable.csv\")"
   ]
  },
  {
   "cell_type": "code",
   "execution_count": 7,
   "metadata": {},
   "outputs": [
    {
     "data": {
      "text/plain": [
       "(10000, 2)"
      ]
     },
     "execution_count": 7,
     "metadata": {},
     "output_type": "execute_result"
    }
   ],
   "source": [
    "trainFrame.shape # csv data info shape"
   ]
  },
  {
   "cell_type": "code",
   "execution_count": 8,
   "metadata": {},
   "outputs": [
    {
     "data": {
      "text/plain": [
       "2000"
      ]
     },
     "execution_count": 8,
     "metadata": {},
     "output_type": "execute_result"
    }
   ],
   "source": [
    "len(trainFrame[\"ref_images\"].unique()) # no of unique labels"
   ]
  },
  {
   "cell_type": "code",
   "execution_count": 9,
   "metadata": {},
   "outputs": [
    {
     "name": "stdout",
     "output_type": "stream",
     "text": [
      "<class 'pandas.core.frame.DataFrame'>\n",
      "RangeIndex: 10000 entries, 0 to 9999\n",
      "Data columns (total 2 columns):\n",
      "ref_images     10000 non-null object\n",
      "cons_images    10000 non-null object\n",
      "dtypes: object(2)\n",
      "memory usage: 156.3+ KB\n"
     ]
    }
   ],
   "source": [
    "trainFrame.info()"
   ]
  },
  {
   "cell_type": "code",
   "execution_count": 10,
   "metadata": {},
   "outputs": [
    {
     "data": {
      "text/html": [
       "<div>\n",
       "<style scoped>\n",
       "    .dataframe tbody tr th:only-of-type {\n",
       "        vertical-align: middle;\n",
       "    }\n",
       "\n",
       "    .dataframe tbody tr th {\n",
       "        vertical-align: top;\n",
       "    }\n",
       "\n",
       "    .dataframe thead th {\n",
       "        text-align: right;\n",
       "    }\n",
       "</style>\n",
       "<table border=\"1\" class=\"dataframe\">\n",
       "  <thead>\n",
       "    <tr style=\"text-align: right;\">\n",
       "      <th></th>\n",
       "      <th>ref_images</th>\n",
       "      <th>0</th>\n",
       "    </tr>\n",
       "  </thead>\n",
       "  <tbody>\n",
       "    <tr>\n",
       "      <th>1337</th>\n",
       "      <td>00555-9008-67_PART_1_OF_2_CHAL10_SF_252F928C.jpg</td>\n",
       "      <td>6</td>\n",
       "    </tr>\n",
       "    <tr>\n",
       "      <th>1739</th>\n",
       "      <td>52544-0291-28_PART_1_OF_4_CHAL10_SF_5C1E2E51.jpg</td>\n",
       "      <td>6</td>\n",
       "    </tr>\n",
       "    <tr>\n",
       "      <th>1830</th>\n",
       "      <td>60505-0146-00_PART_1_OF_1_CHAL10_SB_46292339.jpg</td>\n",
       "      <td>6</td>\n",
       "    </tr>\n",
       "    <tr>\n",
       "      <th>1354</th>\n",
       "      <td>00555-9014-67_PART_1_OF_2_CHAL10_SB_952FCACE.jpg</td>\n",
       "      <td>6</td>\n",
       "    </tr>\n",
       "    <tr>\n",
       "      <th>1355</th>\n",
       "      <td>00555-9014-67_PART_1_OF_2_CHAL10_SF_952FCACE.jpg</td>\n",
       "      <td>6</td>\n",
       "    </tr>\n",
       "    <tr>\n",
       "      <th>1831</th>\n",
       "      <td>60505-0146-00_PART_1_OF_1_CHAL10_SF_46292339.jpg</td>\n",
       "      <td>6</td>\n",
       "    </tr>\n",
       "    <tr>\n",
       "      <th>1738</th>\n",
       "      <td>52544-0291-28_PART_1_OF_4_CHAL10_SB_5C1E2E51.jpg</td>\n",
       "      <td>6</td>\n",
       "    </tr>\n",
       "    <tr>\n",
       "      <th>1336</th>\n",
       "      <td>00555-9008-67_PART_1_OF_2_CHAL10_SB_252F928C.jpg</td>\n",
       "      <td>6</td>\n",
       "    </tr>\n",
       "    <tr>\n",
       "      <th>1328</th>\n",
       "      <td>00555-1055-86_PART_1_OF_1_CHAL10_SB_E33071D3.jpg</td>\n",
       "      <td>5</td>\n",
       "    </tr>\n",
       "    <tr>\n",
       "      <th>1329</th>\n",
       "      <td>00555-1055-86_PART_1_OF_1_CHAL10_SF_E33071D3.jpg</td>\n",
       "      <td>5</td>\n",
       "    </tr>\n",
       "  </tbody>\n",
       "</table>\n",
       "</div>"
      ],
      "text/plain": [
       "                                            ref_images  0\n",
       "1337  00555-9008-67_PART_1_OF_2_CHAL10_SF_252F928C.jpg  6\n",
       "1739  52544-0291-28_PART_1_OF_4_CHAL10_SF_5C1E2E51.jpg  6\n",
       "1830  60505-0146-00_PART_1_OF_1_CHAL10_SB_46292339.jpg  6\n",
       "1354  00555-9014-67_PART_1_OF_2_CHAL10_SB_952FCACE.jpg  6\n",
       "1355  00555-9014-67_PART_1_OF_2_CHAL10_SF_952FCACE.jpg  6\n",
       "1831  60505-0146-00_PART_1_OF_1_CHAL10_SF_46292339.jpg  6\n",
       "1738  52544-0291-28_PART_1_OF_4_CHAL10_SB_5C1E2E51.jpg  6\n",
       "1336  00555-9008-67_PART_1_OF_2_CHAL10_SB_252F928C.jpg  6\n",
       "1328  00555-1055-86_PART_1_OF_1_CHAL10_SB_E33071D3.jpg  5\n",
       "1329  00555-1055-86_PART_1_OF_1_CHAL10_SF_E33071D3.jpg  5"
      ]
     },
     "execution_count": 10,
     "metadata": {},
     "output_type": "execute_result"
    }
   ],
   "source": [
    "all_labels = trainFrame['ref_images']\n",
    "ids_counted_and_sorted = pd.DataFrame({'ref_images': all_labels}).groupby('ref_images')\\\n",
    "                            .size().reset_index().sort_values(0, ascending=False)\n",
    "ids_counted_and_sorted.head(10)"
   ]
  },
  {
   "cell_type": "code",
   "execution_count": 16,
   "metadata": {},
   "outputs": [
    {
     "name": "stdout",
     "output_type": "stream",
     "text": [
      "Number of Consumer Images: 5000\n"
     ]
    }
   ],
   "source": [
    "consumer_imgs = len(trainFrame['cons_images'].unique()) #print number of unique IDs\n",
    "     \n",
    "print(f'Number of Consumer Images: {consumer_imgs}')"
   ]
  },
  {
   "cell_type": "code",
   "execution_count": 17,
   "metadata": {},
   "outputs": [
    {
     "data": {
      "text/plain": [
       "521.jpg     2\n",
       "3547.jpg    2\n",
       "4144.jpg    2\n",
       "1137.jpg    2\n",
       "430.jpg     2\n",
       "4000.jpg    2\n",
       "1819.jpg    2\n",
       "538.jpg     2\n",
       "2061.jpg    2\n",
       "2072.jpg    2\n",
       "Name: cons_images, dtype: int64"
      ]
     },
     "execution_count": 17,
     "metadata": {},
     "output_type": "execute_result"
    }
   ],
   "source": [
    "trainFrame['cons_images'].value_counts().head(10)"
   ]
  },
  {
   "cell_type": "code",
   "execution_count": 18,
   "metadata": {},
   "outputs": [
    {
     "data": {
      "text/plain": [
       "521.jpg     2\n",
       "3547.jpg    2\n",
       "4144.jpg    2\n",
       "1137.jpg    2\n",
       "430.jpg     2\n",
       "4000.jpg    2\n",
       "1819.jpg    2\n",
       "538.jpg     2\n",
       "2061.jpg    2\n",
       "2072.jpg    2\n",
       "Name: cons_images, dtype: int64"
      ]
     },
     "execution_count": 18,
     "metadata": {},
     "output_type": "execute_result"
    }
   ],
   "source": [
    "trainFrame['cons_images'].value_counts().head(10) #most common tags"
   ]
  },
  {
   "cell_type": "markdown",
   "metadata": {},
   "source": [
    "### Train the Model"
   ]
  },
  {
   "cell_type": "code",
   "execution_count": 20,
   "metadata": {},
   "outputs": [],
   "source": [
    "# Uncomment the below if you need to reset your precomputed activations\n",
    "!rm -rf {PATH}tmp"
   ]
  },
  {
   "cell_type": "code",
   "execution_count": 21,
   "metadata": {},
   "outputs": [],
   "source": [
    "labels_csv = f'{PATH}groundTruthTable.csv'\n",
    "n = len(list(open(labels_csv))) -1\n",
    "val_idxs = get_cv_idxs(n)"
   ]
  },
  {
   "cell_type": "code",
   "execution_count": 22,
   "metadata": {},
   "outputs": [
    {
     "data": {
      "text/plain": [
       "10000"
      ]
     },
     "execution_count": 22,
     "metadata": {},
     "output_type": "execute_result"
    }
   ],
   "source": [
    "n"
   ]
  },
  {
   "cell_type": "code",
   "execution_count": 23,
   "metadata": {},
   "outputs": [
    {
     "data": {
      "text/plain": [
       "array([6252, 4684, 1731, ..., 7853, 1095, 6929])"
      ]
     },
     "execution_count": 23,
     "metadata": {},
     "output_type": "execute_result"
    }
   ],
   "source": [
    "val_idxs"
   ]
  },
  {
   "cell_type": "code",
   "execution_count": 24,
   "metadata": {},
   "outputs": [
    {
     "data": {
      "text/plain": [
       "2000"
      ]
     },
     "execution_count": 24,
     "metadata": {},
     "output_type": "execute_result"
    }
   ],
   "source": [
    "len(val_idxs)"
   ]
  },
  {
   "cell_type": "code",
   "execution_count": 25,
   "metadata": {},
   "outputs": [],
   "source": [
    "f_model = resnet18\n",
    "sz = 256\n",
    "bs = 64"
   ]
  },
  {
   "cell_type": "code",
   "execution_count": 26,
   "metadata": {},
   "outputs": [],
   "source": [
    "tfms = tfms_from_model(f_model, sz, aug_tfms=transforms_top_down + transforms_side_on, max_zoom=1.05)"
   ]
  },
  {
   "cell_type": "code",
   "execution_count": 27,
   "metadata": {},
   "outputs": [],
   "source": [
    "data = ImageClassifierData.from_csv(PATH, 'dc_dr', labels_csv, test_name='dc_test', val_idxs=val_idxs, tfms=tfms, bs=bs)"
   ]
  },
  {
   "cell_type": "code",
   "execution_count": 28,
   "metadata": {},
   "outputs": [
    {
     "name": "stdout",
     "output_type": "stream",
     "text": [
      "<fastai.dataloader.DataLoader object at 0x7f56e384a550>\n"
     ]
    }
   ],
   "source": [
    "print(data.val_dl)"
   ]
  },
  {
   "cell_type": "code",
   "execution_count": 29,
   "metadata": {},
   "outputs": [
    {
     "data": {
      "text/plain": [
       "2000"
      ]
     },
     "execution_count": 29,
     "metadata": {},
     "output_type": "execute_result"
    }
   ],
   "source": [
    "len(val_idxs)"
   ]
  },
  {
   "cell_type": "code",
   "execution_count": 30,
   "metadata": {},
   "outputs": [
    {
     "data": {
      "text/plain": [
       "<fastai.dataloader.DataLoader at 0x7f56e384a550>"
      ]
     },
     "execution_count": 30,
     "metadata": {},
     "output_type": "execute_result"
    }
   ],
   "source": [
    "data.val_dl"
   ]
  },
  {
   "cell_type": "code",
   "execution_count": 31,
   "metadata": {},
   "outputs": [],
   "source": [
    "learn = ConvLearner.pretrained(f_model, data)"
   ]
  },
  {
   "cell_type": "code",
   "execution_count": 32,
   "metadata": {},
   "outputs": [
    {
     "data": {
      "application/vnd.jupyter.widget-view+json": {
       "model_id": "9221a5622273479585dbe049a29b9527",
       "version_major": 2,
       "version_minor": 0
      },
      "text/plain": [
       "HBox(children=(IntProgress(value=0, description='Epoch', max=1), HTML(value='')))"
      ]
     },
     "metadata": {},
     "output_type": "display_data"
    },
    {
     "name": "stdout",
     "output_type": "stream",
     "text": [
      " 98%|█████████▊| 122/125 [01:14<00:01,  1.65it/s, loss=113] "
     ]
    },
    {
     "data": {
      "image/png": "[encoded data removed]",
      "text/plain": [
       "<Figure size 432x288 with 1 Axes>"
      ]
     },
     "metadata": {},
     "output_type": "display_data"
    }
   ],
   "source": [
    "lrf=learn.lr_find()\n",
    "learn.sched.plot()"
   ]
  },
  {
   "cell_type": "code",
   "execution_count": 33,
   "metadata": {},
   "outputs": [
    {
     "data": {
      "image/png": "[encoded data removed]",
      "text/plain": [
       "<Figure size 432x288 with 1 Axes>"
      ]
     },
     "metadata": {},
     "output_type": "display_data"
    }
   ],
   "source": [
    "learn.sched.plot_lr()"
   ]
  },
  {
   "cell_type": "code",
   "execution_count": 34,
   "metadata": {},
   "outputs": [
    {
     "data": {
      "application/vnd.jupyter.widget-view+json": {
       "model_id": "10a312d529454b3b97b44dc2904dcc23",
       "version_major": 2,
       "version_minor": 0
      },
      "text/plain": [
       "HBox(children=(IntProgress(value=0, max=6), HTML(value='')))"
      ]
     },
     "metadata": {},
     "output_type": "display_data"
    },
    {
     "name": "stdout",
     "output_type": "stream",
     "text": [
      " 28%|██▊       | 2279/8000 [00:09<00:23, 247.35it/s]       \n",
      " 29%|██▉       | 2334/8000 [00:09<00:22, 247.20it/s]"
     ]
    },
    {
     "name": "stderr",
     "output_type": "stream",
     "text": [
      "Exception in thread Thread-4:\n",
      "Traceback (most recent call last):\n",
      "  File \"/home/ubuntu/src/anaconda3/envs/fastai/lib/python3.6/threading.py\", line 916, in _bootstrap_inner\n",
      "    self.run()\n",
      "  File \"/home/ubuntu/src/anaconda3/envs/fastai/lib/python3.6/site-packages/tqdm/_monitor.py\", line 62, in run\n",
      "    for instance in self.tqdm_cls._instances:\n",
      "  File \"/home/ubuntu/src/anaconda3/envs/fastai/lib/python3.6/_weakrefset.py\", line 60, in __iter__\n",
      "    for itemref in self.data:\n",
      "RuntimeError: Set changed size during iteration\n",
      "\n"
     ]
    },
    {
     "name": "stdout",
     "output_type": "stream",
     "text": [
      "                                                    \n"
     ]
    }
   ],
   "source": [
    "data = data.resize(int(sz*1.3), 'tmp')"
   ]
  },
  {
   "cell_type": "code",
   "execution_count": 35,
   "metadata": {},
   "outputs": [],
   "source": [
    "lr = 0.1"
   ]
  },
  {
   "cell_type": "code",
   "execution_count": 36,
   "metadata": {},
   "outputs": [
    {
     "data": {
      "application/vnd.jupyter.widget-view+json": {
       "model_id": "6b2bd02691354259b34625660c80ef20",
       "version_major": 2,
       "version_minor": 0
      },
      "text/plain": [
       "HBox(children=(IntProgress(value=0, description='Epoch', max=2), HTML(value='')))"
      ]
     },
     "metadata": {},
     "output_type": "display_data"
    },
    {
     "name": "stdout",
     "output_type": "stream",
     "text": [
      "epoch      trn_loss   val_loss   accuracy                   \n",
      "    0      4.857998   3.494423   0.2335    \n",
      "    1      3.116273   2.072246   0.461                      \n",
      "\n"
     ]
    }
   ],
   "source": [
    "learn.fit(lr, 2)\n",
    "learn.precompute=False"
   ]
  },
  {
   "cell_type": "code",
   "execution_count": 37,
   "metadata": {},
   "outputs": [
    {
     "data": {
      "application/vnd.jupyter.widget-view+json": {
       "model_id": "47165d34e8544053b37a2103f3309120",
       "version_major": 2,
       "version_minor": 0
      },
      "text/plain": [
       "HBox(children=(IntProgress(value=0, description='Epoch', max=7), HTML(value='')))"
      ]
     },
     "metadata": {},
     "output_type": "display_data"
    },
    {
     "name": "stdout",
     "output_type": "stream",
     "text": [
      "epoch      trn_loss   val_loss   accuracy                   \n",
      "    0      2.00906    1.389159   0.6605    \n",
      "    1      1.855143   1.121107   0.7055                     \n",
      "    2      1.421831   0.863252   0.771                      \n",
      "    3      1.567348   0.919248   0.742                      \n",
      "    4      1.272349   0.627453   0.823                      \n",
      "    5      0.956407   0.452256   0.873                       \n",
      "    6      0.843246   0.432062   0.888                       \n",
      "\n"
     ]
    },
    {
     "data": {
      "text/plain": [
       "[array([0.43206]), 0.888]"
      ]
     },
     "execution_count": 37,
     "metadata": {},
     "output_type": "execute_result"
    }
   ],
   "source": [
    "learn.precompute=False\n",
    "learn.fit(lr, 3, cycle_len=1, cycle_mult=2)"
   ]
  },
  {
   "cell_type": "code",
   "execution_count": 38,
   "metadata": {},
   "outputs": [],
   "source": [
    "learn.save('04_15_nih_first')"
   ]
  },
  {
   "cell_type": "markdown",
   "metadata": {},
   "source": [
    "### Additional training"
   ]
  },
  {
   "cell_type": "code",
   "execution_count": 39,
   "metadata": {},
   "outputs": [],
   "source": [
    "learn.unfreeze()"
   ]
  },
  {
   "cell_type": "code",
   "execution_count": 40,
   "metadata": {},
   "outputs": [],
   "source": [
    "lrs=np.array([1e-4,1e-3,1e-2])"
   ]
  },
  {
   "cell_type": "code",
   "execution_count": 41,
   "metadata": {},
   "outputs": [
    {
     "data": {
      "application/vnd.jupyter.widget-view+json": {
       "model_id": "6409414abf6d46b08eaeeb8a98f6d103",
       "version_major": 2,
       "version_minor": 0
      },
      "text/plain": [
       "HBox(children=(IntProgress(value=0, description='Epoch', max=7), HTML(value='')))"
      ]
     },
     "metadata": {},
     "output_type": "display_data"
    },
    {
     "name": "stdout",
     "output_type": "stream",
     "text": [
      "epoch      trn_loss   val_loss   accuracy                   \n",
      "    0      1.797192   0.832349   0.7565    \n",
      "    1      1.179433   0.59899    0.813                      \n",
      "    2      0.889804   0.475504   0.8615                      \n",
      "    3      0.872588   0.461158   0.8635                      \n",
      "    4      0.733386   0.369091   0.9                         \n",
      "    5      0.620815   0.309035   0.914                       \n",
      "    6      0.582321   0.297733   0.921                       \n",
      "\n"
     ]
    },
    {
     "data": {
      "text/plain": [
       "[array([0.29773]), 0.921]"
      ]
     },
     "execution_count": 41,
     "metadata": {},
     "output_type": "execute_result"
    }
   ],
   "source": [
    "learn.fit(lrs, 3, cycle_len=1, cycle_mult=2)"
   ]
  },
  {
   "cell_type": "code",
   "execution_count": 44,
   "metadata": {},
   "outputs": [],
   "source": [
    "learn.save('04_15_nih_second')"
   ]
  },
  {
   "cell_type": "code",
   "execution_count": 45,
   "metadata": {},
   "outputs": [
    {
     "data": {
      "application/vnd.jupyter.widget-view+json": {
       "model_id": "3c8086342fa74154a5f2f18eff3d5816",
       "version_major": 2,
       "version_minor": 0
      },
      "text/plain": [
       "HBox(children=(IntProgress(value=0, description='Epoch', max=3), HTML(value='')))"
      ]
     },
     "metadata": {},
     "output_type": "display_data"
    },
    {
     "name": "stdout",
     "output_type": "stream",
     "text": [
      "epoch      trn_loss   val_loss   accuracy                    \n",
      "    0      0.583352   0.28006    0.9265    \n",
      "    1      0.594281   0.25671    0.9265                      \n",
      "    2      0.489395   0.234712   0.9385                      \n",
      "\n"
     ]
    },
    {
     "data": {
      "text/plain": [
       "[array([0.23471]), 0.9385]"
      ]
     },
     "execution_count": 45,
     "metadata": {},
     "output_type": "execute_result"
    }
   ],
   "source": [
    "learn.fit(lrs, 2, cycle_len=1, cycle_mult=2)"
   ]
  },
  {
   "cell_type": "code",
   "execution_count": 46,
   "metadata": {},
   "outputs": [],
   "source": [
    "learn.save('04_15_nih_third')"
   ]
  },
  {
   "cell_type": "code",
   "execution_count": 47,
   "metadata": {},
   "outputs": [
    {
     "data": {
      "application/vnd.jupyter.widget-view+json": {
       "model_id": "563d4f76c5c746c6a1f4b0c382c5434d",
       "version_major": 2,
       "version_minor": 0
      },
      "text/plain": [
       "HBox(children=(IntProgress(value=0, description='Epoch', max=3), HTML(value='')))"
      ]
     },
     "metadata": {},
     "output_type": "display_data"
    },
    {
     "name": "stdout",
     "output_type": "stream",
     "text": [
      "epoch      trn_loss   val_loss   accuracy                    \n",
      "    0      0.491856   0.223848   0.933     \n",
      "    1      0.503684   0.209206   0.946                       \n",
      "    2      0.42849    0.194366   0.9485                      \n",
      "\n"
     ]
    },
    {
     "data": {
      "text/plain": [
       "[array([0.19437]), 0.9485]"
      ]
     },
     "execution_count": 47,
     "metadata": {},
     "output_type": "execute_result"
    }
   ],
   "source": [
    "learn.fit(lrs, 2, cycle_len=1, cycle_mult=2)"
   ]
  },
  {
   "cell_type": "code",
   "execution_count": 48,
   "metadata": {},
   "outputs": [],
   "source": [
    "learn.save('04_15_nih_forth')"
   ]
  },
  {
   "cell_type": "code",
   "execution_count": 49,
   "metadata": {},
   "outputs": [
    {
     "data": {
      "application/vnd.jupyter.widget-view+json": {
       "model_id": "6059041a01874699bb512cc29e138ca1",
       "version_major": 2,
       "version_minor": 0
      },
      "text/plain": [
       "HBox(children=(IntProgress(value=0, description='Epoch', max=3), HTML(value='')))"
      ]
     },
     "metadata": {},
     "output_type": "display_data"
    },
    {
     "name": "stdout",
     "output_type": "stream",
     "text": [
      "epoch      trn_loss   val_loss   accuracy                    \n",
      "    0      0.437336   0.192239   0.9425    \n",
      "    1      0.421649   0.1815     0.9455                      \n",
      "    2      0.381535   0.170435   0.9485                      \n",
      "\n"
     ]
    },
    {
     "data": {
      "text/plain": [
       "[array([0.17044]), 0.9485]"
      ]
     },
     "execution_count": 49,
     "metadata": {},
     "output_type": "execute_result"
    }
   ],
   "source": [
    "learn.fit(lrs, 2, cycle_len=1, cycle_mult=2)"
   ]
  },
  {
   "cell_type": "code",
   "execution_count": 50,
   "metadata": {},
   "outputs": [],
   "source": [
    "learn.save('04_15_nih_fifth')"
   ]
  },
  {
   "cell_type": "code",
   "execution_count": 51,
   "metadata": {},
   "outputs": [],
   "source": [
    "classes = np.array(data.classes, dtype=str)"
   ]
  },
  {
   "cell_type": "code",
   "execution_count": 52,
   "metadata": {},
   "outputs": [
    {
     "data": {
      "text/plain": [
       "array(['1000.jpg', '1002.jpg', '1004.jpg', '1010.jpg', '1016.jpg', '1017.jpg', '1023.jpg', '1033.jpg',\n",
       "       '1034.jpg', '1035.jpg', '1037.jpg', '1039.jpg', '1040.jpg', '1042.jpg', '1043.jpg', '1046.jpg',\n",
       "       '1049.jpg', '105.jpg', '1052.jpg', '1059.jpg', '1064.jpg', '1067.jpg', '1069.jpg', '1078.jpg',\n",
       "       '1079.jpg', '1083.jpg', '1087.jpg', '1088.jpg', '1093.jpg', '1095.jpg', '1098.jpg', '110.jpg',\n",
       "       '1105.jpg', '1113.jpg', '1118.jpg', '1123.jpg', '1131.jpg', '1134.jpg', '1138.jpg', '1141.jpg',\n",
       "       '1146.jpg', '1153.jpg', '1158.jpg', '1174.jpg', '1193.jpg', '1196.jpg', '1204.jpg', '1206.jpg',\n",
       "       '1207.jpg', '1214.jpg', '1216.jpg', '1224.jpg', '1230.jpg', '1236.jpg', '1238.jpg', '1239.jpg',\n",
       "       '126.jpg', '1271.jpg', '1272.jpg', '1273.jpg', '128.jpg', '1286.jpg', '129.jpg', '1295.jpg',\n",
       "       '1298.jpg', '1302.jpg', '1306.jpg', '1316.jpg', '1318.jpg', '1321.jpg', '1328.jpg', '133.jpg',\n",
       "       '1331.jpg', '1334.jpg', '1338.jpg', '1340.jpg', '1343.jpg', '1345.jpg', '1350.jpg', '136.jpg',\n",
       "       '1363.jpg', '1369.jpg', '1371.jpg', '1375.jpg', '1378.jpg', '1379.jpg', '1382.jpg', '1388.jpg',\n",
       "       '1391.jpg', '140.jpg', '1401.jpg', '1404.jpg', '142.jpg', '143.jpg', '1430.jpg', '1439.jpg',\n",
       "       '1441.jpg', '1442.jpg', '1443.jpg', '1458.jpg', '1465.jpg', '1468.jpg', '1480.jpg', '1481.jpg',\n",
       "       '1482.jpg', '1486.jpg', '1494.jpg', '1497.jpg', '15.jpg', '1505.jpg', '151.jpg', '1518.jpg',\n",
       "       '152.jpg', '1532.jpg', '1534.jpg', '1537.jpg', '1543.jpg', '1549.jpg', '1557.jpg', '1564.jpg',\n",
       "       '1565.jpg', '1566.jpg', '1569.jpg', '1574.jpg', '1575.jpg', '158.jpg', '1583.jpg', '1596.jpg',\n",
       "       '1598.jpg', '1599.jpg', '1600.jpg', '1601.jpg', '1604.jpg', '1609.jpg', '1614.jpg', '1616.jpg',\n",
       "       '1625.jpg', '1633.jpg', '1634.jpg', '1637.jpg', '1642.jpg', '1644.jpg', '1650.jpg', '1657.jpg',\n",
       "       '1661.jpg', '1664.jpg', '1665.jpg', '1686.jpg', '1690.jpg', '1695.jpg', '17.jpg', '1701.jpg',\n",
       "       '1705.jpg', '171.jpg', '1718.jpg', '1724.jpg', '1733.jpg', '1735.jpg', '1740.jpg', '1750.jpg',\n",
       "       '1754.jpg', '1756.jpg', '1759.jpg', '1767.jpg', '1769.jpg', '1779.jpg', '1786.jpg', '1794.jpg',\n",
       "       '1797.jpg', '18.jpg', '1803.jpg', '1806.jpg', '1808.jpg', '1810.jpg', '1812.jpg', '1814.jpg',\n",
       "       '1817.jpg', '1820.jpg', '1822.jpg', '1826.jpg', '1841.jpg', '1850.jpg', '1852.jpg', '1854.jpg',\n",
       "       '1862.jpg', '1869.jpg', '187.jpg', '1871.jpg', '1877.jpg', '188.jpg', '1885.jpg', '189.jpg',\n",
       "       '1890.jpg', '1894.jpg', '1895.jpg', '1898.jpg', '1899.jpg', '1928.jpg', '1934.jpg', '194.jpg',\n",
       "       '1946.jpg', '1952.jpg', '1955.jpg', '1957.jpg', '1958.jpg', '196.jpg', '1961.jpg', '1975.jpg',\n",
       "       '1977.jpg', '198.jpg', '1984.jpg', '1985.jpg', '1986.jpg', '1989.jpg', '1993.jpg', '1996.jpg',\n",
       "       '2001.jpg', '2004.jpg', '2006.jpg', '2013.jpg', '2017.jpg', '2028.jpg', '2029.jpg', '2036.jpg',\n",
       "       '2047.jpg', '2049.jpg', '205.jpg', '2056.jpg', '206.jpg', '2063.jpg', '2066.jpg', '2070.jpg',\n",
       "       '2071.jpg', '2078.jpg', '2087.jpg', '2088.jpg', '2089.jpg', '2093.jpg', '2099.jpg', '2102.jpg',\n",
       "       '2107.jpg', '2112.jpg', '2114.jpg', '2116.jpg', '2119.jpg', '2120.jpg', '2121.jpg', '2123.jpg',\n",
       "       '2130.jpg', '214.jpg', '2140.jpg', '2141.jpg', '2148.jpg', '2158.jpg', '2160.jpg', '2163.jpg',\n",
       "       '2164.jpg', '217.jpg', '2179.jpg', '2181.jpg', '2184.jpg', '2186.jpg', '2196.jpg', '2200.jpg',\n",
       "       '2203.jpg', '2210.jpg', '2211.jpg', '2216.jpg', '2222.jpg', '2223.jpg', '2230.jpg', '2231.jpg',\n",
       "       '2242.jpg', '2244.jpg', '2250.jpg', '2260.jpg', '2268.jpg', '227.jpg', '2274.jpg', '2275.jpg',\n",
       "       '2276.jpg', '2278.jpg', '2281.jpg', '2286.jpg', '2295.jpg', '231.jpg', '2311.jpg', '2318.jpg',\n",
       "       '2320.jpg', '2323.jpg', '2340.jpg', '2343.jpg', '2345.jpg', '2349.jpg', '2351.jpg', '2352.jpg',\n",
       "       '2354.jpg', '2358.jpg', '236.jpg', '2372.jpg', '2377.jpg', '2381.jpg', '2382.jpg', '2387.jpg',\n",
       "       '2401.jpg', '2405.jpg', '2406.jpg', '241.jpg', '2411.jpg', '2412.jpg', '2415.jpg', '2416.jpg',\n",
       "       '2418.jpg', '2420.jpg', '2430.jpg', '2442.jpg', '2448.jpg', '2451.jpg', '2453.jpg', '2454.jpg',\n",
       "       '2459.jpg', '2468.jpg', '2478.jpg', '2480.jpg', '2486.jpg', '2489.jpg', '2492.jpg', '250.jpg',\n",
       "       '2502.jpg', '2511.jpg', '2513.jpg', '2525.jpg', '2532.jpg', '2534.jpg', '2537.jpg', '2539.jpg',\n",
       "       '2541.jpg', '2543.jpg', '2548.jpg', '255.jpg', '2550.jpg', '2551.jpg', '2553.jpg', '2555.jpg',\n",
       "       '2564.jpg', '2566.jpg', '2572.jpg', '2575.jpg', '2580.jpg', '2586.jpg', '2588.jpg', '259.jpg',\n",
       "       '2590.jpg', '2598.jpg', '2600.jpg', '2602.jpg', '2604.jpg', '2620.jpg', '2643.jpg', '2651.jpg',\n",
       "       '2670.jpg', '2672.jpg', '2677.jpg', '2692.jpg', '2694.jpg', '2697.jpg', '270.jpg', '2706.jpg',\n",
       "       '2708.jpg', '2719.jpg', '2734.jpg', '2737.jpg', '2738.jpg', '2739.jpg', '275.jpg', '2754.jpg',\n",
       "       '2757.jpg', '2759.jpg', '2769.jpg', '2775.jpg', '2786.jpg', '2800.jpg', '2807.jpg', '281.jpg',\n",
       "       '2819.jpg', '2821.jpg', '2832.jpg', '2834.jpg', '284.jpg', '2845.jpg', '2848.jpg', '2853.jpg',\n",
       "       '2854.jpg', '2859.jpg', '286.jpg', '2860.jpg', '2861.jpg', '2864.jpg', '2876.jpg', '2887.jpg',\n",
       "       '2890.jpg', '2891.jpg', '2894.jpg', '2896.jpg', '290.jpg', '2905.jpg', '2913.jpg', '2914.jpg',\n",
       "       '2925.jpg', '2927.jpg', '2930.jpg', '2943.jpg', '2946.jpg', '2951.jpg', '2955.jpg', '2959.jpg',\n",
       "       '296.jpg', '2977.jpg', '2978.jpg', '2986.jpg', '2993.jpg', '3000.jpg', '3003.jpg', '3012.jpg',\n",
       "       '3021.jpg', '3022.jpg', '3027.jpg', '3033.jpg', '3043.jpg', '3046.jpg', '3049.jpg', '305.jpg',\n",
       "       '3053.jpg', '3058.jpg', '3059.jpg', '3061.jpg', '3073.jpg', '3078.jpg', '3080.jpg', '3085.jpg',\n",
       "       '3087.jpg', '3092.jpg', '3095.jpg', '3097.jpg', '3100.jpg', '3101.jpg', '3103.jpg', '3106.jpg',\n",
       "       '3107.jpg', '3116.jpg', '3118.jpg', '3119.jpg', '312.jpg', '3125.jpg', '3129.jpg', '313.jpg',\n",
       "       '3134.jpg', '3143.jpg', '3146.jpg', '3149.jpg', '315.jpg', '3150.jpg', '3154.jpg', '3156.jpg',\n",
       "       '3160.jpg', '3164.jpg', '3179.jpg', '3191.jpg', '3193.jpg', '320.jpg', '3207.jpg', '3211.jpg',\n",
       "       '3216.jpg', '322.jpg', '3223.jpg', '323.jpg', '3235.jpg', '3241.jpg', '3243.jpg', '325.jpg',\n",
       "       '3258.jpg', '3259.jpg', '3269.jpg', '3272.jpg', '3273.jpg', '328.jpg', '3283.jpg', '3285.jpg',\n",
       "       '3287.jpg', '3293.jpg', '3297.jpg', '3300.jpg', '3306.jpg', '3307.jpg', '3308.jpg', '3323.jpg',\n",
       "       '3328.jpg', '3331.jpg', '3333.jpg', '334.jpg', '3350.jpg', '3353.jpg', '3354.jpg', '3358.jpg',\n",
       "       '336.jpg', '3360.jpg', '3365.jpg', '3374.jpg', '3382.jpg', '3383.jpg', '3386.jpg', '339.jpg',\n",
       "       '3390.jpg', '3396.jpg', '3402.jpg', '3403.jpg', '3407.jpg', '341.jpg', '3412.jpg', '3413.jpg',\n",
       "       '3416.jpg', '3425.jpg', '3429.jpg', '3430.jpg', '3438.jpg', '345.jpg', '3452.jpg', '3453.jpg',\n",
       "       '3458.jpg', '3466.jpg', '3468.jpg', '347.jpg', '3472.jpg', '3482.jpg', '3485.jpg', '3486.jpg',\n",
       "       '3491.jpg', '3494.jpg', '3495.jpg', '3499.jpg', '350.jpg', '3506.jpg', '3519.jpg', '3522.jpg',\n",
       "       '3528.jpg', '353.jpg', '3533.jpg', '3537.jpg', '3543.jpg', '3550.jpg', '3558.jpg', '3565.jpg',\n",
       "       '3566.jpg', '3580.jpg', '3581.jpg', '3582.jpg', '3585.jpg', '3589.jpg', '3590.jpg', '3597.jpg',\n",
       "       '3598.jpg', '36.jpg', '3603.jpg', '3605.jpg', '3614.jpg', '3615.jpg', '3618.jpg', '3620.jpg',\n",
       "       '3621.jpg', '3631.jpg', '3639.jpg', '3640.jpg', '3641.jpg', '3644.jpg', '3646.jpg', '3650.jpg',\n",
       "       '3653.jpg', '3654.jpg', '3660.jpg', '3661.jpg', '3663.jpg', '367.jpg', '3681.jpg', '3684.jpg',\n",
       "       '3689.jpg', '3696.jpg', '3700.jpg', '3707.jpg', '3713.jpg', '3722.jpg', '3732.jpg', '3745.jpg',\n",
       "       '3748.jpg', '3749.jpg', '3755.jpg', '3757.jpg', '3764.jpg', '3769.jpg', '377.jpg', '3778.jpg',\n",
       "       '3788.jpg', '3789.jpg', '3801.jpg', '3803.jpg', '381.jpg', '3810.jpg', '3827.jpg', '3828.jpg',\n",
       "       '383.jpg', '3836.jpg', '3838.jpg', '3839.jpg', '3844.jpg', '3851.jpg', '3854.jpg', '3858.jpg',\n",
       "       '3860.jpg', '3867.jpg', '3869.jpg', '3879.jpg', '388.jpg', '3880.jpg', '3884.jpg', '3887.jpg',\n",
       "       '389.jpg', '3890.jpg', '3905.jpg', '3907.jpg', '3908.jpg', '391.jpg', '3915.jpg', '3916.jpg',\n",
       "       '3919.jpg', '392.jpg', '3926.jpg', '3934.jpg', '3939.jpg', '394.jpg', '3941.jpg', '3945.jpg',\n",
       "       '3951.jpg', '3955.jpg', '396.jpg', '3962.jpg', '3965.jpg', '3966.jpg', '3967.jpg', '3971.jpg',\n",
       "       '3972.jpg', '3973.jpg', '3976.jpg', '3977.jpg', '398.jpg', '3981.jpg', '3996.jpg', '4.jpg',\n",
       "       '4008.jpg', '401.jpg', '4010.jpg', '4011.jpg', '4016.jpg', '4020.jpg', '4028.jpg', '4029.jpg',\n",
       "       '403.jpg', '4033.jpg', '4034.jpg', '4041.jpg', '4044.jpg', '4046.jpg', '4049.jpg', '4054.jpg',\n",
       "       '4055.jpg', '4056.jpg', '4057.jpg', '4059.jpg', '4062.jpg', '4064.jpg', '4066.jpg', '4079.jpg',\n",
       "       '4082.jpg', '4087.jpg', '409.jpg', '4098.jpg', '41.jpg', '4108.jpg', '4123.jpg', '4135.jpg',\n",
       "       '4137.jpg', '414.jpg', '4145.jpg', '4149.jpg', '415.jpg', '4158.jpg', '4165.jpg', '4169.jpg',\n",
       "       '4177.jpg', '4182.jpg', '4188.jpg', '4192.jpg', '4194.jpg', '4200.jpg', '4205.jpg', '4206.jpg',\n",
       "       '4214.jpg', '4231.jpg', '4240.jpg', '4244.jpg', '4245.jpg', '425.jpg', '4258.jpg', '4263.jpg',\n",
       "       '4268.jpg', '4270.jpg', '4272.jpg', '4274.jpg', '4285.jpg', '4290.jpg', '430.jpg', '4306.jpg',\n",
       "       '4308.jpg', '431.jpg', '4311.jpg', '4312.jpg', '4313.jpg', '4319.jpg', '4323.jpg', '4324.jpg',\n",
       "       '4326.jpg', '4329.jpg', '4334.jpg', '4337.jpg', '4357.jpg', '4358.jpg', '4361.jpg', '4362.jpg',\n",
       "       '4366.jpg', '4367.jpg', '4375.jpg', '4377.jpg', '4378.jpg', '4382.jpg', '4393.jpg', '4410.jpg',\n",
       "       '4411.jpg', '4417.jpg', '4418.jpg', '4424.jpg', '4425.jpg', '4427.jpg', '4433.jpg', '4434.jpg',\n",
       "       '444.jpg', '4444.jpg', '4450.jpg', '4451.jpg', '4452.jpg', '4462.jpg', '447.jpg', '4472.jpg',\n",
       "       '4474.jpg', '4477.jpg', '448.jpg', '4487.jpg', '449.jpg', '4491.jpg', '4497.jpg', '4506.jpg',\n",
       "       '4509.jpg', '451.jpg', '4510.jpg', '4515.jpg', '4516.jpg', '4523.jpg', '4524.jpg', '4527.jpg',\n",
       "       '4531.jpg', '4536.jpg', '4542.jpg', '4552.jpg', '4555.jpg', '4557.jpg', '4561.jpg', '4569.jpg',\n",
       "       '4572.jpg', '4576.jpg', '4579.jpg', '4583.jpg', '459.jpg', '4594.jpg', '4598.jpg', '46.jpg',\n",
       "       '4603.jpg', '4605.jpg', '4608.jpg', '4616.jpg', '4618.jpg', '4619.jpg', '4620.jpg', '4626.jpg',\n",
       "       '4630.jpg', '4633.jpg', '4639.jpg', '4651.jpg', '4654.jpg', '466.jpg', '4667.jpg', '4670.jpg',\n",
       "       '4674.jpg', '4676.jpg', '4677.jpg', '4679.jpg', '4680.jpg', '4681.jpg', '4683.jpg', '4684.jpg',\n",
       "       '4688.jpg', '4694.jpg', '4696.jpg', '4697.jpg', '4700.jpg', '4701.jpg', '4702.jpg', '4719.jpg',\n",
       "       '4722.jpg', '4725.jpg', '473.jpg', '4731.jpg', '4734.jpg', '4736.jpg', '4738.jpg', '4748.jpg',\n",
       "       '4749.jpg', '475.jpg', '4750.jpg', '4753.jpg', '4759.jpg', '4767.jpg', '4768.jpg', '4784.jpg',\n",
       "       '479.jpg', '4792.jpg', '4795.jpg', '4804.jpg', '4807.jpg', '481.jpg', '4815.jpg', '4819.jpg',\n",
       "       '482.jpg', '4825.jpg', '4829.jpg', '4834.jpg', '4837.jpg', '484.jpg', '4843.jpg', '4844.jpg',\n",
       "       '4847.jpg', '4855.jpg', '4856.jpg', '4879.jpg', '4883.jpg', '4886.jpg', '4887.jpg', '4890.jpg',\n",
       "       '4895.jpg', '49.jpg', '4909.jpg', '491.jpg', '4911.jpg', '4915.jpg', '4917.jpg', '4919.jpg',\n",
       "       '492.jpg', '4921.jpg', '4926.jpg', '4931.jpg', '4934.jpg', '4936.jpg', '4939.jpg', '494.jpg',\n",
       "       '4942.jpg', '4943.jpg', '4947.jpg', '4948.jpg', '4950.jpg', '4953.jpg', '4962.jpg', '4967.jpg',\n",
       "       '4971.jpg', '4974.jpg', '4978.jpg', '498.jpg', '4983.jpg', '4986.jpg', '504.jpg', '515.jpg', '52.jpg',\n",
       "       '522.jpg', '523.jpg', '525.jpg', '527.jpg', '53.jpg', '535.jpg', '54.jpg', '542.jpg', '544.jpg',\n",
       "       '556.jpg', '557.jpg', '558.jpg', '560.jpg', '562.jpg', '569.jpg', '572.jpg', '574.jpg', '575.jpg',\n",
       "       '576.jpg', '579.jpg', '585.jpg', '586.jpg', '589.jpg', '603.jpg', '612.jpg', '618.jpg', '62.jpg',\n",
       "       '63.jpg', '635.jpg', '638.jpg', '641.jpg', '645.jpg', '654.jpg', '662.jpg', '669.jpg', '671.jpg',\n",
       "       '678.jpg', '681.jpg', '682.jpg', '683.jpg', '689.jpg', '695.jpg', '699.jpg', '700.jpg', '705.jpg',\n",
       "       '706.jpg', '708.jpg', '710.jpg', '722.jpg', '731.jpg', '736.jpg', '74.jpg', '745.jpg', '752.jpg',\n",
       "       '755.jpg', '765.jpg', '768.jpg', '773.jpg', '779.jpg', '785.jpg', '789.jpg', '795.jpg', '8.jpg',\n",
       "       '80.jpg', '801.jpg', '818.jpg', '821.jpg', '822.jpg', '824.jpg', '826.jpg', '827.jpg', '841.jpg',\n",
       "       '847.jpg', '852.jpg', '853.jpg', '859.jpg', '880.jpg', '883.jpg', '888.jpg', '894.jpg', '898.jpg',\n",
       "       '901.jpg', '909.jpg', '914.jpg', '915.jpg', '916.jpg', '922.jpg', '926.jpg', '930.jpg', '932.jpg',\n",
       "       '936.jpg', '940.jpg', '941.jpg', '945.jpg', '947.jpg', '956.jpg', '964.jpg', '966.jpg', '967.jpg',\n",
       "       '977.jpg', '983.jpg', '990.jpg', '997.jpg'], dtype='<U8')"
      ]
     },
     "execution_count": 52,
     "metadata": {},
     "output_type": "execute_result"
    }
   ],
   "source": [
    "classes"
   ]
  },
  {
   "cell_type": "markdown",
   "metadata": {},
   "source": [
    "### Output"
   ]
  },
  {
   "cell_type": "code",
   "execution_count": 53,
   "metadata": {},
   "outputs": [],
   "source": [
    "learn.load('04_15_nih_fifth')"
   ]
  },
  {
   "cell_type": "code",
   "execution_count": 54,
   "metadata": {},
   "outputs": [
    {
     "data": {
      "text/plain": [
       "8000"
      ]
     },
     "execution_count": 54,
     "metadata": {},
     "output_type": "execute_result"
    }
   ],
   "source": [
    "data.trn_dl.dataset.n"
   ]
  },
  {
   "cell_type": "code",
   "execution_count": 55,
   "metadata": {},
   "outputs": [
    {
     "data": {
      "text/plain": [
       "2000"
      ]
     },
     "execution_count": 55,
     "metadata": {},
     "output_type": "execute_result"
    }
   ],
   "source": [
    "data.val_dl.dataset.n"
   ]
  },
  {
   "cell_type": "code",
   "execution_count": 56,
   "metadata": {},
   "outputs": [
    {
     "data": {
      "text/plain": [
       "5000"
      ]
     },
     "execution_count": 56,
     "metadata": {},
     "output_type": "execute_result"
    }
   ],
   "source": [
    "len(data.test_ds.fnames)"
   ]
  },
  {
   "cell_type": "code",
   "execution_count": 57,
   "metadata": {},
   "outputs": [
    {
     "name": "stdout",
     "output_type": "stream",
     "text": [
      "                                             \r"
     ]
    },
    {
     "data": {
      "text/plain": [
       "(2000, 1000)"
      ]
     },
     "execution_count": 57,
     "metadata": {},
     "output_type": "execute_result"
    }
   ],
   "source": [
    "log_preds,y = learn.TTA()\n",
    "preds = np.mean(np.exp(log_preds),0)\n",
    "preds.shape"
   ]
  },
  {
   "cell_type": "code",
   "execution_count": 58,
   "metadata": {},
   "outputs": [],
   "source": [
    "sample_df = pd.read_csv('data/pill/submission_2000.csv') #using a smaller file because preds shape is 2000 by 1000"
   ]
  },
  {
   "cell_type": "code",
   "execution_count": 59,
   "metadata": {},
   "outputs": [],
   "source": [
    "fnames = sample_df[['cons_images']].values"
   ]
  },
  {
   "cell_type": "code",
   "execution_count": 60,
   "metadata": {},
   "outputs": [
    {
     "data": {
      "text/plain": [
       "array([['0.jpg'],\n",
       "       ['1.jpg'],\n",
       "       ['10.jpg'],\n",
       "       ...,\n",
       "       ['2796.jpg'],\n",
       "       ['2797.jpg'],\n",
       "       ['2798.jpg']], dtype=object)"
      ]
     },
     "execution_count": 60,
     "metadata": {},
     "output_type": "execute_result"
    }
   ],
   "source": [
    "fnames"
   ]
  },
  {
   "cell_type": "code",
   "execution_count": 61,
   "metadata": {},
   "outputs": [],
   "source": [
    "values = np.hstack([fnames, preds])"
   ]
  },
  {
   "cell_type": "code",
   "execution_count": 62,
   "metadata": {},
   "outputs": [
    {
     "data": {
      "text/plain": [
       "array([['0.jpg', 4.463062452941813e-07, 9.792538548936136e-06, ..., 3.910687329522489e-09,\n",
       "        2.3870779131129893e-08, 4.463610281391084e-08],\n",
       "       ['1.jpg', 5.247610488368082e-07, 1.6046766177169047e-05, ..., 4.048772872522477e-09,\n",
       "        1.5477713333211796e-08, 2.1652146742212608e-08],\n",
       "       ['10.jpg', 1.3456223086905084e-06, 4.185644684184808e-06, ..., 3.9102552307213045e-09,\n",
       "        6.463851320859249e-08, 1.9524367900203288e-08],\n",
       "       ...,\n",
       "       ['2796.jpg', 2.5528940073016315e-11, 2.104100574329415e-11, ..., 2.845509661231205e-10,\n",
       "        1.1012954992395407e-09, 3.1017943769029444e-10],\n",
       "       ['2797.jpg', 1.174067926212885e-10, 2.7069696310888514e-12, ..., 9.156249976965958e-13,\n",
       "        4.2189536586523246e-11, 1.2989806279228855e-11],\n",
       "       ['2798.jpg', 7.183902778207241e-11, 2.810170444868948e-13, ..., 1.88429675508639e-12,\n",
       "        1.3023662877309494e-11, 6.99107167555918e-13]], dtype=object)"
      ]
     },
     "execution_count": 62,
     "metadata": {},
     "output_type": "execute_result"
    }
   ],
   "source": [
    "values"
   ]
  },
  {
   "cell_type": "code",
   "execution_count": 79,
   "metadata": {},
   "outputs": [],
   "source": [
    "submission_df = pd.DataFrame(values, preds)"
   ]
  },
  {
   "cell_type": "code",
   "execution_count": 91,
   "metadata": {},
   "outputs": [],
   "source": [
    "submission_df.to_csv('nih_two.csv', index=False) #this produces csv file 2000 by 1000 with preds"
   ]
  },
  {
   "cell_type": "code",
   "execution_count": 92,
   "metadata": {},
   "outputs": [
    {
     "data": {
      "text/plain": [
       "0       True\n",
       "1       True\n",
       "2       True\n",
       "3       True\n",
       "4       True\n",
       "5       True\n",
       "6       True\n",
       "7       True\n",
       "8       True\n",
       "9       True\n",
       "10      True\n",
       "11      True\n",
       "12      True\n",
       "13      True\n",
       "14      True\n",
       "15      True\n",
       "16      True\n",
       "17      True\n",
       "18      True\n",
       "19      True\n",
       "20      True\n",
       "21      True\n",
       "22      True\n",
       "23      True\n",
       "24      True\n",
       "25      True\n",
       "26      True\n",
       "27      True\n",
       "28      True\n",
       "29      True\n",
       "        ... \n",
       "971     True\n",
       "972     True\n",
       "973     True\n",
       "974     True\n",
       "975     True\n",
       "976     True\n",
       "977     True\n",
       "978     True\n",
       "979     True\n",
       "980     True\n",
       "981     True\n",
       "982     True\n",
       "983     True\n",
       "984     True\n",
       "985     True\n",
       "986     True\n",
       "987     True\n",
       "988     True\n",
       "989     True\n",
       "990     True\n",
       "991     True\n",
       "992     True\n",
       "993     True\n",
       "994     True\n",
       "995     True\n",
       "996     True\n",
       "997     True\n",
       "998     True\n",
       "999     True\n",
       "1000    True\n",
       "Length: 1001, dtype: bool"
      ]
     },
     "execution_count": 92,
     "metadata": {},
     "output_type": "execute_result"
    }
   ],
   "source": [
    "submission_df.all()"
   ]
  },
  {
   "cell_type": "code",
   "execution_count": 84,
   "metadata": {},
   "outputs": [
    {
     "data": {
      "text/html": [
       "<div>\n",
       "<style scoped>\n",
       "    .dataframe tbody tr th:only-of-type {\n",
       "        vertical-align: middle;\n",
       "    }\n",
       "\n",
       "    .dataframe tbody tr th {\n",
       "        vertical-align: top;\n",
       "    }\n",
       "\n",
       "    .dataframe thead th {\n",
       "        text-align: right;\n",
       "    }\n",
       "</style>\n",
       "<table border=\"1\" class=\"dataframe\">\n",
       "  <thead>\n",
       "    <tr style=\"text-align: right;\">\n",
       "      <th></th>\n",
       "      <th>cons_images</th>\n",
       "      <th>00002-3228-30_PART_1_OF_1_CHAL10_SB_391E1C80.jpg</th>\n",
       "      <th>00002-3228-30_PART_1_OF_1_CHAL10_SF_391E1C80.jpg</th>\n",
       "      <th>00002-3229-30_PART_1_OF_1_CHAL10_SB_3E1E1F50.jpg</th>\n",
       "      <th>00002-3229-30_PART_1_OF_1_CHAL10_SF_3E1E1F50.jpg</th>\n",
       "      <th>00002-3238-30_PART_1_OF_1_CHAL10_SB_361E1B30.jpg</th>\n",
       "      <th>00002-3238-30_PART_1_OF_1_CHAL10_SF_361E1B30.jpg</th>\n",
       "      <th>00002-3239-30_PART_1_OF_1_CHAL10_SB_3F1E1F80.jpg</th>\n",
       "      <th>00002-3239-30_PART_1_OF_1_CHAL10_SF_3F1E1F80.jpg</th>\n",
       "      <th>00002-3250-30_PART_1_OF_1_CHAL10_SB_431E21C1.jpg</th>\n",
       "      <th>...</th>\n",
       "      <th>00173-0178-55_PART_1_OF_1_CHAL10_SB_AF18D7A6.jpg</th>\n",
       "      <th>00173-0178-55_PART_1_OF_1_CHAL10_SF_AF18D7A6.jpg</th>\n",
       "      <th>00173-0556-02_PART_1_OF_1_CHAL10_SB_251912B8.jpg</th>\n",
       "      <th>00173-0556-02_PART_1_OF_1_CHAL10_SF_251912B8.jpg</th>\n",
       "      <th>00173-0561-00_PART_1_OF_1_CHAL10_SB_97194BBA.jpg</th>\n",
       "      <th>00173-0561-00_PART_1_OF_1_CHAL10_SF_97194BBA.jpg</th>\n",
       "      <th>00173-0562-00_PART_1_OF_1_CHAL10_SB_A01C5002.jpg</th>\n",
       "      <th>00173-0562-00_PART_1_OF_1_CHAL10_SF_A01C5002.jpg</th>\n",
       "      <th>00173-0565-04_PART_1_OF_1_CHAL10_SB_461DA30D.jpg</th>\n",
       "      <th>00173-0565-04_PART_1_OF_1_CHAL10_SF_461DA30D.jpg</th>\n",
       "    </tr>\n",
       "  </thead>\n",
       "  <tbody>\n",
       "    <tr>\n",
       "      <th>0</th>\n",
       "      <td>0.jpg</td>\n",
       "      <td>0.5</td>\n",
       "      <td>0.5</td>\n",
       "      <td>0.5</td>\n",
       "      <td>0.5</td>\n",
       "      <td>0.5</td>\n",
       "      <td>0.5</td>\n",
       "      <td>0.5</td>\n",
       "      <td>0.5</td>\n",
       "      <td>0.5</td>\n",
       "      <td>...</td>\n",
       "      <td>0.5</td>\n",
       "      <td>0.5</td>\n",
       "      <td>0.5</td>\n",
       "      <td>0.5</td>\n",
       "      <td>0.5</td>\n",
       "      <td>0.5</td>\n",
       "      <td>0.5</td>\n",
       "      <td>0.5</td>\n",
       "      <td>0.5</td>\n",
       "      <td>0.5</td>\n",
       "    </tr>\n",
       "  </tbody>\n",
       "</table>\n",
       "<p>1 rows × 1001 columns</p>\n",
       "</div>"
      ],
      "text/plain": [
       "  cons_images  00002-3228-30_PART_1_OF_1_CHAL10_SB_391E1C80.jpg  \\\n",
       "0       0.jpg                                               0.5   \n",
       "\n",
       "   00002-3228-30_PART_1_OF_1_CHAL10_SF_391E1C80.jpg  \\\n",
       "0                                               0.5   \n",
       "\n",
       "   00002-3229-30_PART_1_OF_1_CHAL10_SB_3E1E1F50.jpg  \\\n",
       "0                                               0.5   \n",
       "\n",
       "   00002-3229-30_PART_1_OF_1_CHAL10_SF_3E1E1F50.jpg  \\\n",
       "0                                               0.5   \n",
       "\n",
       "   00002-3238-30_PART_1_OF_1_CHAL10_SB_361E1B30.jpg  \\\n",
       "0                                               0.5   \n",
       "\n",
       "   00002-3238-30_PART_1_OF_1_CHAL10_SF_361E1B30.jpg  \\\n",
       "0                                               0.5   \n",
       "\n",
       "   00002-3239-30_PART_1_OF_1_CHAL10_SB_3F1E1F80.jpg  \\\n",
       "0                                               0.5   \n",
       "\n",
       "   00002-3239-30_PART_1_OF_1_CHAL10_SF_3F1E1F80.jpg  \\\n",
       "0                                               0.5   \n",
       "\n",
       "   00002-3250-30_PART_1_OF_1_CHAL10_SB_431E21C1.jpg  \\\n",
       "0                                               0.5   \n",
       "\n",
       "                         ...                         \\\n",
       "0                        ...                          \n",
       "\n",
       "   00173-0178-55_PART_1_OF_1_CHAL10_SB_AF18D7A6.jpg  \\\n",
       "0                                               0.5   \n",
       "\n",
       "   00173-0178-55_PART_1_OF_1_CHAL10_SF_AF18D7A6.jpg  \\\n",
       "0                                               0.5   \n",
       "\n",
       "   00173-0556-02_PART_1_OF_1_CHAL10_SB_251912B8.jpg  \\\n",
       "0                                               0.5   \n",
       "\n",
       "   00173-0556-02_PART_1_OF_1_CHAL10_SF_251912B8.jpg  \\\n",
       "0                                               0.5   \n",
       "\n",
       "   00173-0561-00_PART_1_OF_1_CHAL10_SB_97194BBA.jpg  \\\n",
       "0                                               0.5   \n",
       "\n",
       "   00173-0561-00_PART_1_OF_1_CHAL10_SF_97194BBA.jpg  \\\n",
       "0                                               0.5   \n",
       "\n",
       "   00173-0562-00_PART_1_OF_1_CHAL10_SB_A01C5002.jpg  \\\n",
       "0                                               0.5   \n",
       "\n",
       "   00173-0562-00_PART_1_OF_1_CHAL10_SF_A01C5002.jpg  \\\n",
       "0                                               0.5   \n",
       "\n",
       "   00173-0565-04_PART_1_OF_1_CHAL10_SB_461DA30D.jpg  \\\n",
       "0                                               0.5   \n",
       "\n",
       "   00173-0565-04_PART_1_OF_1_CHAL10_SF_461DA30D.jpg  \n",
       "0                                               0.5  \n",
       "\n",
       "[1 rows x 1001 columns]"
      ]
     },
     "execution_count": 84,
     "metadata": {},
     "output_type": "execute_result"
    }
   ],
   "source": [
    "#Need to create a file with the following headings\n",
    "sample_df = pd.read_csv('data/pill/submission_2000.csv')\n",
    "sample_df.head(1)"
   ]
  },
  {
   "cell_type": "code",
   "execution_count": 81,
   "metadata": {},
   "outputs": [
    {
     "data": {
      "text/html": [
       "<div>\n",
       "<style scoped>\n",
       "    .dataframe tbody tr th:only-of-type {\n",
       "        vertical-align: middle;\n",
       "    }\n",
       "\n",
       "    .dataframe tbody tr th {\n",
       "        vertical-align: top;\n",
       "    }\n",
       "\n",
       "    .dataframe thead th {\n",
       "        text-align: right;\n",
       "    }\n",
       "</style>\n",
       "<table border=\"1\" class=\"dataframe\">\n",
       "  <thead>\n",
       "    <tr style=\"text-align: right;\">\n",
       "      <th></th>\n",
       "      <th>cons_images</th>\n",
       "      <th>00002-3228-30_PART_1_OF_1_CHAL10_SB_391E1C80.jpg</th>\n",
       "      <th>00002-3228-30_PART_1_OF_1_CHAL10_SF_391E1C80.jpg</th>\n",
       "      <th>00002-3229-30_PART_1_OF_1_CHAL10_SB_3E1E1F50.jpg</th>\n",
       "      <th>00002-3229-30_PART_1_OF_1_CHAL10_SF_3E1E1F50.jpg</th>\n",
       "      <th>00002-3238-30_PART_1_OF_1_CHAL10_SB_361E1B30.jpg</th>\n",
       "      <th>00002-3238-30_PART_1_OF_1_CHAL10_SF_361E1B30.jpg</th>\n",
       "      <th>00002-3239-30_PART_1_OF_1_CHAL10_SB_3F1E1F80.jpg</th>\n",
       "      <th>00002-3239-30_PART_1_OF_1_CHAL10_SF_3F1E1F80.jpg</th>\n",
       "      <th>00002-3250-30_PART_1_OF_1_CHAL10_SB_431E21C1.jpg</th>\n",
       "      <th>...</th>\n",
       "      <th>00173-0178-55_PART_1_OF_1_CHAL10_SB_AF18D7A6.jpg</th>\n",
       "      <th>00173-0178-55_PART_1_OF_1_CHAL10_SF_AF18D7A6.jpg</th>\n",
       "      <th>00173-0556-02_PART_1_OF_1_CHAL10_SB_251912B8.jpg</th>\n",
       "      <th>00173-0556-02_PART_1_OF_1_CHAL10_SF_251912B8.jpg</th>\n",
       "      <th>00173-0561-00_PART_1_OF_1_CHAL10_SB_97194BBA.jpg</th>\n",
       "      <th>00173-0561-00_PART_1_OF_1_CHAL10_SF_97194BBA.jpg</th>\n",
       "      <th>00173-0562-00_PART_1_OF_1_CHAL10_SB_A01C5002.jpg</th>\n",
       "      <th>00173-0562-00_PART_1_OF_1_CHAL10_SF_A01C5002.jpg</th>\n",
       "      <th>00173-0565-04_PART_1_OF_1_CHAL10_SB_461DA30D.jpg</th>\n",
       "      <th>00173-0565-04_PART_1_OF_1_CHAL10_SF_461DA30D.jpg</th>\n",
       "    </tr>\n",
       "  </thead>\n",
       "  <tbody>\n",
       "  </tbody>\n",
       "</table>\n",
       "<p>0 rows × 1001 columns</p>\n",
       "</div>"
      ],
      "text/plain": [
       "Empty DataFrame\n",
       "Columns: [cons_images, 00002-3228-30_PART_1_OF_1_CHAL10_SB_391E1C80.jpg, 00002-3228-30_PART_1_OF_1_CHAL10_SF_391E1C80.jpg, 00002-3229-30_PART_1_OF_1_CHAL10_SB_3E1E1F50.jpg, 00002-3229-30_PART_1_OF_1_CHAL10_SF_3E1E1F50.jpg, 00002-3238-30_PART_1_OF_1_CHAL10_SB_361E1B30.jpg, 00002-3238-30_PART_1_OF_1_CHAL10_SF_361E1B30.jpg, 00002-3239-30_PART_1_OF_1_CHAL10_SB_3F1E1F80.jpg, 00002-3239-30_PART_1_OF_1_CHAL10_SF_3F1E1F80.jpg, 00002-3250-30_PART_1_OF_1_CHAL10_SB_431E21C1.jpg, 00002-3250-30_PART_1_OF_1_CHAL10_SF_431E21C1.jpg, 00002-3251-30_PART_1_OF_1_CHAL10_SB_451E2281.jpg, 00002-3251-30_PART_1_OF_1_CHAL10_SF_451E2281.jpg, 00002-4463-30_PART_1_OF_1_CHAL10_SB_B5155ACA.jpg, 00002-4463-30_PART_1_OF_1_CHAL10_SF_B5155ACA.jpg, 00002-4464-30_PART_1_OF_1_CHAL10_SB_B8155C1A.jpg, 00002-4464-30_PART_1_OF_1_CHAL10_SF_B8155C1A.jpg, 00003-4222-16_PART_1_OF_1_CHAL10_SB_F215F93F.jpg, 00003-4222-16_PART_1_OF_1_CHAL10_SF_F215F93F.jpg, 00004-0800-85_PART_1_OF_1_CHAL10_SB_491E24C1.jpg, 00004-0800-85_PART_1_OF_1_CHAL10_SF_491E24C1.jpg, 00006-0112-54_PART_1_OF_1_CHAL10_SB_131609E0.jpg, 00006-0112-54_PART_1_OF_1_CHAL10_SF_131609E0.jpg, 00006-0277-54_PART_1_OF_1_CHAL10_SB_16160B30.jpg, 00006-0277-54_PART_1_OF_1_CHAL10_SF_16160B30.jpg, 00006-0749-54_PART_1_OF_1_CHAL10_SB_821DC16E.jpg, 00006-0749-54_PART_1_OF_1_CHAL10_SF_821DC16E.jpg, 00007-4471-20_PART_1_OF_1_CHAL10_SB_7618BB55.jpg, 00007-4471-20_PART_1_OF_1_CHAL10_SF_7618BB55.jpg, 00007-4642-13_PART_1_OF_1_CHAL10_SB_8C18C666.jpg, 00007-4642-13_PART_1_OF_1_CHAL10_SF_8C18C666.jpg, 00007-4882-13_PART_1_OF_1_CHAL10_SB_E118F097.jpg, 00007-4882-13_PART_1_OF_1_CHAL10_SF_E118F097.jpg, 00007-4891-20_PART_1_OF_1_CHAL10_SB_CD18E6D7.jpg, 00007-4891-20_PART_1_OF_1_CHAL10_SF_CD18E6D7.jpg, 00007-4892-20_PART_1_OF_1_CHAL10_SB_BE18DF56.jpg, 00007-4892-20_PART_1_OF_1_CHAL10_SF_BE18DF56.jpg, 00007-4893-20_PART_1_OF_1_CHAL10_SB_D118E887.jpg, 00007-4893-20_PART_1_OF_1_CHAL10_SF_D118E887.jpg, 00007-4896-20_PART_1_OF_1_CHAL10_SB_D818EC47.jpg, 00007-4896-20_PART_1_OF_1_CHAL10_SF_D818EC47.jpg, 00009-0055-01_PART_1_OF_1_CHAL10_SB_CA1DE53F.jpg, 00009-0055-01_PART_1_OF_1_CHAL10_SF_CA1DE53F.jpg, 00009-7663-04_PART_1_OF_1_CHAL10_SB_FD12FEA7.jpg, 00009-7663-04_PART_1_OF_1_CHAL10_SF_FD12FEA7.jpg, 00013-5301-17_PART_1_OF_1_CHAL10_SB_691E34B1.jpg, 00013-5301-17_PART_1_OF_1_CHAL10_SF_691E34B1.jpg, 00023-9350-07_PART_1_OF_1_CHAL10_SB_D4196A7B.jpg, 00023-9350-07_PART_1_OF_1_CHAL10_SF_D4196A7B.jpg, 00029-3159-13_PART_1_OF_1_CHAL10_SB_E418F247.jpg, 00029-3159-13_PART_1_OF_1_CHAL10_SF_E418F247.jpg, 00037-2250-10_PART_1_OF_1_CHAL10_SB_BD1D5EFA.jpg, 00037-2250-10_PART_1_OF_1_CHAL10_SF_BD1D5EFA.jpg, 00049-4910-30_PART_1_OF_1_CHAL10_SB_881DC46E.jpg, 00049-4910-30_PART_1_OF_1_CHAL10_SF_881DC46E.jpg, 00054-0017-25_PART_1_OF_1_CHAL10_SB_F7217BFB.jpg, 00054-0017-25_PART_1_OF_1_CHAL10_SF_F7217BFB.jpg, 00054-0109-25_PART_1_OF_1_CHAL10_SB_00268004.jpg, 00054-0109-25_PART_1_OF_1_CHAL10_SF_00268004.jpg, 00054-0166-25_PART_1_OF_1_CHAL10_SB_6A1DB56D.jpg, 00054-0166-25_PART_1_OF_1_CHAL10_SF_6A1DB56D.jpg, 00054-2526-25_PART_1_OF_1_CHAL10_SB_961C4B22.jpg, 00054-2526-25_PART_1_OF_1_CHAL10_SF_961C4B22.jpg, 00054-4182-25_PART_1_OF_1_CHAL10_SB_77233BF9.jpg, 00054-4182-25_PART_1_OF_1_CHAL10_SF_77233BF9.jpg, 00054-4728-25_PART_1_OF_1_CHAL10_SB_8723C3EE.jpg, 00054-4728-25_PART_1_OF_1_CHAL10_SF_8723C3EE.jpg, 00056-0170-70_PART_1_OF_1_CHAL10_SB_95134AFA.jpg, 00056-0170-70_PART_1_OF_1_CHAL10_SF_95134AFA.jpg, 00056-0176-70_PART_1_OF_1_CHAL10_SB_99134CAA.jpg, 00056-0176-70_PART_1_OF_1_CHAL10_SF_99134CAA.jpg, 00056-0188-70_PART_1_OF_1_CHAL10_SB_9B134DFA.jpg, 00056-0188-70_PART_1_OF_1_CHAL10_SF_9B134DFA.jpg, 00062-2085-12_PART_1_OF_1_CHAL10_SB_06130328.jpg, 00062-2085-12_PART_1_OF_1_CHAL10_SF_06130328.jpg, 00069-1540-68_PART_1_OF_1_CHAL10_SB_BB1C5DE2.jpg, 00069-1540-68_PART_1_OF_1_CHAL10_SF_BB1C5DE2.jpg, 00069-2600-66_PART_1_OF_1_CHAL10_SB_3A211D78.jpg, 00069-2600-66_PART_1_OF_1_CHAL10_SF_3A211D78.jpg, 00069-4210-30_PART_1_OF_1_CHAL10_SB_641DB26D.jpg, 00069-4210-30_PART_1_OF_1_CHAL10_SF_641DB26D.jpg, 00071-0155-23_PART_1_OF_1_CHAL10_SB_711C38F1.jpg, 00071-0155-23_PART_1_OF_1_CHAL10_SF_711C38F1.jpg, 00071-0156-23_PART_1_OF_1_CHAL10_SB_741C3A41.jpg, 00071-0156-23_PART_1_OF_1_CHAL10_SF_741C3A41.jpg, 00071-0419-24_PART_1_OF_1_CHAL10_SB_361C9B04.jpg, 00071-0419-24_PART_1_OF_1_CHAL10_SF_361C9B04.jpg, 00071-1015-68_PART_1_OF_1_CHAL10_SB_5215A92D.jpg, 00071-1015-68_PART_1_OF_1_CHAL10_SF_5215A92D.jpg, 00071-1017-68_PART_1_OF_1_CHAL10_SB_5515AAAD.jpg, 00071-1017-68_PART_1_OF_1_CHAL10_SF_5515AAAD.jpg, 00074-1973-54_PART_1_OF_1_CHAL10_SB_BE1DDF0E.jpg, 00074-1973-54_PART_1_OF_1_CHAL10_SF_BE1DDF0E.jpg, 00074-3020-11_PART_1_OF_1_CHAL10_SB_E01D703B.jpg, 00074-3020-11_PART_1_OF_1_CHAL10_SF_E01D703B.jpg, 00074-3040-11_PART_1_OF_1_CHAL10_SB_DB1D6DFB.jpg, 00074-3040-11_PART_1_OF_1_CHAL10_SF_DB1D6DFB.jpg, 00074-3290-13_PART_1_OF_1_CHAL10_SB_EC1D766B.jpg, 00074-3290-13_PART_1_OF_1_CHAL10_SF_EC1D766B.jpg, 00074-5182-19_PART_1_OF_1_CHAL10_SB_AF1D57AA.jpg, ...]\n",
       "Index: []\n",
       "\n",
       "[0 rows x 1001 columns]"
      ]
     },
     "execution_count": 81,
     "metadata": {},
     "output_type": "execute_result"
    }
   ],
   "source": [
    "submission_template = pd.read_csv(sample_df)\n",
    "submission_dataframe = pd.DataFrame(columns=submission_template.columns)\n",
    "submission_dataframe.head()"
   ]
  },
  {
   "cell_type": "code",
   "execution_count": 82,
   "metadata": {},
   "outputs": [
    {
     "ename": "KeyError",
     "evalue": "'cons_images'",
     "output_type": "error",
     "traceback": [
      "\u001b[0;31m---------------------------------------------------------------------------\u001b[0m",
      "\u001b[0;31mTypeError\u001b[0m                                 Traceback (most recent call last)",
      "\u001b[0;32mpandas/_libs/index.pyx\u001b[0m in \u001b[0;36mpandas._libs.index.IndexEngine.get_loc\u001b[0;34m()\u001b[0m\n",
      "\u001b[0;32mpandas/_libs/hashtable_class_helper.pxi\u001b[0m in \u001b[0;36mpandas._libs.hashtable.Int64HashTable.get_item\u001b[0;34m()\u001b[0m\n",
      "\u001b[0;31mTypeError\u001b[0m: an integer is required",
      "\nDuring handling of the above exception, another exception occurred:\n",
      "\u001b[0;31mKeyError\u001b[0m                                  Traceback (most recent call last)",
      "\u001b[0;32m~/src/anaconda3/envs/fastai/lib/python3.6/site-packages/pandas/core/indexes/base.py\u001b[0m in \u001b[0;36mget_loc\u001b[0;34m(self, key, method, tolerance)\u001b[0m\n\u001b[1;32m   2524\u001b[0m             \u001b[0;32mtry\u001b[0m\u001b[0;34m:\u001b[0m\u001b[0;34m\u001b[0m\u001b[0m\n\u001b[0;32m-> 2525\u001b[0;31m                 \u001b[0;32mreturn\u001b[0m \u001b[0mself\u001b[0m\u001b[0;34m.\u001b[0m\u001b[0m_engine\u001b[0m\u001b[0;34m.\u001b[0m\u001b[0mget_loc\u001b[0m\u001b[0;34m(\u001b[0m\u001b[0mkey\u001b[0m\u001b[0;34m)\u001b[0m\u001b[0;34m\u001b[0m\u001b[0m\n\u001b[0m\u001b[1;32m   2526\u001b[0m             \u001b[0;32mexcept\u001b[0m \u001b[0mKeyError\u001b[0m\u001b[0;34m:\u001b[0m\u001b[0;34m\u001b[0m\u001b[0m\n",
      "\u001b[0;32mpandas/_libs/index.pyx\u001b[0m in \u001b[0;36mpandas._libs.index.IndexEngine.get_loc\u001b[0;34m()\u001b[0m\n",
      "\u001b[0;32mpandas/_libs/index.pyx\u001b[0m in \u001b[0;36mpandas._libs.index.IndexEngine.get_loc\u001b[0;34m()\u001b[0m\n",
      "\u001b[0;31mKeyError\u001b[0m: 'cons_images'",
      "\nDuring handling of the above exception, another exception occurred:\n",
      "\u001b[0;31mTypeError\u001b[0m                                 Traceback (most recent call last)",
      "\u001b[0;32mpandas/_libs/index.pyx\u001b[0m in \u001b[0;36mpandas._libs.index.IndexEngine.get_loc\u001b[0;34m()\u001b[0m\n",
      "\u001b[0;32mpandas/_libs/hashtable_class_helper.pxi\u001b[0m in \u001b[0;36mpandas._libs.hashtable.Int64HashTable.get_item\u001b[0;34m()\u001b[0m\n",
      "\u001b[0;31mTypeError\u001b[0m: an integer is required",
      "\nDuring handling of the above exception, another exception occurred:\n",
      "\u001b[0;31mKeyError\u001b[0m                                  Traceback (most recent call last)",
      "\u001b[0;32m<ipython-input-82-db1e7bfb66e3>\u001b[0m in \u001b[0;36m<module>\u001b[0;34m()\u001b[0m\n\u001b[1;32m      1\u001b[0m \u001b[0;31m# Prepare submission\u001b[0m\u001b[0;34m\u001b[0m\u001b[0;34m\u001b[0m\u001b[0m\n\u001b[0;32m----> 2\u001b[0;31m \u001b[0msubmission_dataframe\u001b[0m\u001b[0;34m[\u001b[0m\u001b[0;34m'cons_images'\u001b[0m\u001b[0;34m]\u001b[0m \u001b[0;34m=\u001b[0m \u001b[0msubmission_df\u001b[0m\u001b[0;34m[\u001b[0m\u001b[0;34m'cons_images'\u001b[0m\u001b[0;34m]\u001b[0m\u001b[0;34m.\u001b[0m\u001b[0mtolist\u001b[0m\u001b[0;34m(\u001b[0m\u001b[0;34m)\u001b[0m\u001b[0;34m\u001b[0m\u001b[0m\n\u001b[0m\u001b[1;32m      3\u001b[0m \u001b[0msubmission_dataframe\u001b[0m\u001b[0;34m.\u001b[0m\u001b[0mhead\u001b[0m\u001b[0;34m(\u001b[0m\u001b[0;36m1\u001b[0m\u001b[0;34m)\u001b[0m\u001b[0;34m\u001b[0m\u001b[0m\n",
      "\u001b[0;32m~/src/anaconda3/envs/fastai/lib/python3.6/site-packages/pandas/core/frame.py\u001b[0m in \u001b[0;36m__getitem__\u001b[0;34m(self, key)\u001b[0m\n\u001b[1;32m   2137\u001b[0m             \u001b[0;32mreturn\u001b[0m \u001b[0mself\u001b[0m\u001b[0;34m.\u001b[0m\u001b[0m_getitem_multilevel\u001b[0m\u001b[0;34m(\u001b[0m\u001b[0mkey\u001b[0m\u001b[0;34m)\u001b[0m\u001b[0;34m\u001b[0m\u001b[0m\n\u001b[1;32m   2138\u001b[0m         \u001b[0;32melse\u001b[0m\u001b[0;34m:\u001b[0m\u001b[0;34m\u001b[0m\u001b[0m\n\u001b[0;32m-> 2139\u001b[0;31m             \u001b[0;32mreturn\u001b[0m \u001b[0mself\u001b[0m\u001b[0;34m.\u001b[0m\u001b[0m_getitem_column\u001b[0m\u001b[0;34m(\u001b[0m\u001b[0mkey\u001b[0m\u001b[0;34m)\u001b[0m\u001b[0;34m\u001b[0m\u001b[0m\n\u001b[0m\u001b[1;32m   2140\u001b[0m \u001b[0;34m\u001b[0m\u001b[0m\n\u001b[1;32m   2141\u001b[0m     \u001b[0;32mdef\u001b[0m \u001b[0m_getitem_column\u001b[0m\u001b[0;34m(\u001b[0m\u001b[0mself\u001b[0m\u001b[0;34m,\u001b[0m \u001b[0mkey\u001b[0m\u001b[0;34m)\u001b[0m\u001b[0;34m:\u001b[0m\u001b[0;34m\u001b[0m\u001b[0m\n",
      "\u001b[0;32m~/src/anaconda3/envs/fastai/lib/python3.6/site-packages/pandas/core/frame.py\u001b[0m in \u001b[0;36m_getitem_column\u001b[0;34m(self, key)\u001b[0m\n\u001b[1;32m   2144\u001b[0m         \u001b[0;31m# get column\u001b[0m\u001b[0;34m\u001b[0m\u001b[0;34m\u001b[0m\u001b[0m\n\u001b[1;32m   2145\u001b[0m         \u001b[0;32mif\u001b[0m \u001b[0mself\u001b[0m\u001b[0;34m.\u001b[0m\u001b[0mcolumns\u001b[0m\u001b[0;34m.\u001b[0m\u001b[0mis_unique\u001b[0m\u001b[0;34m:\u001b[0m\u001b[0;34m\u001b[0m\u001b[0m\n\u001b[0;32m-> 2146\u001b[0;31m             \u001b[0;32mreturn\u001b[0m \u001b[0mself\u001b[0m\u001b[0;34m.\u001b[0m\u001b[0m_get_item_cache\u001b[0m\u001b[0;34m(\u001b[0m\u001b[0mkey\u001b[0m\u001b[0;34m)\u001b[0m\u001b[0;34m\u001b[0m\u001b[0m\n\u001b[0m\u001b[1;32m   2147\u001b[0m \u001b[0;34m\u001b[0m\u001b[0m\n\u001b[1;32m   2148\u001b[0m         \u001b[0;31m# duplicate columns & possible reduce dimensionality\u001b[0m\u001b[0;34m\u001b[0m\u001b[0;34m\u001b[0m\u001b[0m\n",
      "\u001b[0;32m~/src/anaconda3/envs/fastai/lib/python3.6/site-packages/pandas/core/generic.py\u001b[0m in \u001b[0;36m_get_item_cache\u001b[0;34m(self, item)\u001b[0m\n\u001b[1;32m   1840\u001b[0m         \u001b[0mres\u001b[0m \u001b[0;34m=\u001b[0m \u001b[0mcache\u001b[0m\u001b[0;34m.\u001b[0m\u001b[0mget\u001b[0m\u001b[0;34m(\u001b[0m\u001b[0mitem\u001b[0m\u001b[0;34m)\u001b[0m\u001b[0;34m\u001b[0m\u001b[0m\n\u001b[1;32m   1841\u001b[0m         \u001b[0;32mif\u001b[0m \u001b[0mres\u001b[0m \u001b[0;32mis\u001b[0m \u001b[0;32mNone\u001b[0m\u001b[0;34m:\u001b[0m\u001b[0;34m\u001b[0m\u001b[0m\n\u001b[0;32m-> 1842\u001b[0;31m             \u001b[0mvalues\u001b[0m \u001b[0;34m=\u001b[0m \u001b[0mself\u001b[0m\u001b[0;34m.\u001b[0m\u001b[0m_data\u001b[0m\u001b[0;34m.\u001b[0m\u001b[0mget\u001b[0m\u001b[0;34m(\u001b[0m\u001b[0mitem\u001b[0m\u001b[0;34m)\u001b[0m\u001b[0;34m\u001b[0m\u001b[0m\n\u001b[0m\u001b[1;32m   1843\u001b[0m             \u001b[0mres\u001b[0m \u001b[0;34m=\u001b[0m \u001b[0mself\u001b[0m\u001b[0;34m.\u001b[0m\u001b[0m_box_item_values\u001b[0m\u001b[0;34m(\u001b[0m\u001b[0mitem\u001b[0m\u001b[0;34m,\u001b[0m \u001b[0mvalues\u001b[0m\u001b[0;34m)\u001b[0m\u001b[0;34m\u001b[0m\u001b[0m\n\u001b[1;32m   1844\u001b[0m             \u001b[0mcache\u001b[0m\u001b[0;34m[\u001b[0m\u001b[0mitem\u001b[0m\u001b[0;34m]\u001b[0m \u001b[0;34m=\u001b[0m \u001b[0mres\u001b[0m\u001b[0;34m\u001b[0m\u001b[0m\n",
      "\u001b[0;32m~/src/anaconda3/envs/fastai/lib/python3.6/site-packages/pandas/core/internals.py\u001b[0m in \u001b[0;36mget\u001b[0;34m(self, item, fastpath)\u001b[0m\n\u001b[1;32m   3841\u001b[0m \u001b[0;34m\u001b[0m\u001b[0m\n\u001b[1;32m   3842\u001b[0m             \u001b[0;32mif\u001b[0m \u001b[0;32mnot\u001b[0m \u001b[0misna\u001b[0m\u001b[0;34m(\u001b[0m\u001b[0mitem\u001b[0m\u001b[0;34m)\u001b[0m\u001b[0;34m:\u001b[0m\u001b[0;34m\u001b[0m\u001b[0m\n\u001b[0;32m-> 3843\u001b[0;31m                 \u001b[0mloc\u001b[0m \u001b[0;34m=\u001b[0m \u001b[0mself\u001b[0m\u001b[0;34m.\u001b[0m\u001b[0mitems\u001b[0m\u001b[0;34m.\u001b[0m\u001b[0mget_loc\u001b[0m\u001b[0;34m(\u001b[0m\u001b[0mitem\u001b[0m\u001b[0;34m)\u001b[0m\u001b[0;34m\u001b[0m\u001b[0m\n\u001b[0m\u001b[1;32m   3844\u001b[0m             \u001b[0;32melse\u001b[0m\u001b[0;34m:\u001b[0m\u001b[0;34m\u001b[0m\u001b[0m\n\u001b[1;32m   3845\u001b[0m                 \u001b[0mindexer\u001b[0m \u001b[0;34m=\u001b[0m \u001b[0mnp\u001b[0m\u001b[0;34m.\u001b[0m\u001b[0marange\u001b[0m\u001b[0;34m(\u001b[0m\u001b[0mlen\u001b[0m\u001b[0;34m(\u001b[0m\u001b[0mself\u001b[0m\u001b[0;34m.\u001b[0m\u001b[0mitems\u001b[0m\u001b[0;34m)\u001b[0m\u001b[0;34m)\u001b[0m\u001b[0;34m[\u001b[0m\u001b[0misna\u001b[0m\u001b[0;34m(\u001b[0m\u001b[0mself\u001b[0m\u001b[0;34m.\u001b[0m\u001b[0mitems\u001b[0m\u001b[0;34m)\u001b[0m\u001b[0;34m]\u001b[0m\u001b[0;34m\u001b[0m\u001b[0m\n",
      "\u001b[0;32m~/src/anaconda3/envs/fastai/lib/python3.6/site-packages/pandas/core/indexes/base.py\u001b[0m in \u001b[0;36mget_loc\u001b[0;34m(self, key, method, tolerance)\u001b[0m\n\u001b[1;32m   2525\u001b[0m                 \u001b[0;32mreturn\u001b[0m \u001b[0mself\u001b[0m\u001b[0;34m.\u001b[0m\u001b[0m_engine\u001b[0m\u001b[0;34m.\u001b[0m\u001b[0mget_loc\u001b[0m\u001b[0;34m(\u001b[0m\u001b[0mkey\u001b[0m\u001b[0;34m)\u001b[0m\u001b[0;34m\u001b[0m\u001b[0m\n\u001b[1;32m   2526\u001b[0m             \u001b[0;32mexcept\u001b[0m \u001b[0mKeyError\u001b[0m\u001b[0;34m:\u001b[0m\u001b[0;34m\u001b[0m\u001b[0m\n\u001b[0;32m-> 2527\u001b[0;31m                 \u001b[0;32mreturn\u001b[0m \u001b[0mself\u001b[0m\u001b[0;34m.\u001b[0m\u001b[0m_engine\u001b[0m\u001b[0;34m.\u001b[0m\u001b[0mget_loc\u001b[0m\u001b[0;34m(\u001b[0m\u001b[0mself\u001b[0m\u001b[0;34m.\u001b[0m\u001b[0m_maybe_cast_indexer\u001b[0m\u001b[0;34m(\u001b[0m\u001b[0mkey\u001b[0m\u001b[0;34m)\u001b[0m\u001b[0;34m)\u001b[0m\u001b[0;34m\u001b[0m\u001b[0m\n\u001b[0m\u001b[1;32m   2528\u001b[0m \u001b[0;34m\u001b[0m\u001b[0m\n\u001b[1;32m   2529\u001b[0m         \u001b[0mindexer\u001b[0m \u001b[0;34m=\u001b[0m \u001b[0mself\u001b[0m\u001b[0;34m.\u001b[0m\u001b[0mget_indexer\u001b[0m\u001b[0;34m(\u001b[0m\u001b[0;34m[\u001b[0m\u001b[0mkey\u001b[0m\u001b[0;34m]\u001b[0m\u001b[0;34m,\u001b[0m \u001b[0mmethod\u001b[0m\u001b[0;34m=\u001b[0m\u001b[0mmethod\u001b[0m\u001b[0;34m,\u001b[0m \u001b[0mtolerance\u001b[0m\u001b[0;34m=\u001b[0m\u001b[0mtolerance\u001b[0m\u001b[0;34m)\u001b[0m\u001b[0;34m\u001b[0m\u001b[0m\n",
      "\u001b[0;32mpandas/_libs/index.pyx\u001b[0m in \u001b[0;36mpandas._libs.index.IndexEngine.get_loc\u001b[0;34m()\u001b[0m\n",
      "\u001b[0;32mpandas/_libs/index.pyx\u001b[0m in \u001b[0;36mpandas._libs.index.IndexEngine.get_loc\u001b[0;34m()\u001b[0m\n",
      "\u001b[0;31mKeyError\u001b[0m: 'cons_images'"
     ]
    }
   ],
   "source": [
    "# Prepare submission\n",
    "submission_dataframe['cons_images'] = submission_df['cons_images'].tolist()\n",
    "submission_dataframe.head(1)"
   ]
  },
  {
   "cell_type": "code",
   "execution_count": 78,
   "metadata": {},
   "outputs": [
    {
     "data": {
      "text/html": [
       "<div>\n",
       "<style scoped>\n",
       "    .dataframe tbody tr th:only-of-type {\n",
       "        vertical-align: middle;\n",
       "    }\n",
       "\n",
       "    .dataframe tbody tr th {\n",
       "        vertical-align: top;\n",
       "    }\n",
       "\n",
       "    .dataframe thead th {\n",
       "        text-align: right;\n",
       "    }\n",
       "</style>\n",
       "<table border=\"1\" class=\"dataframe\">\n",
       "  <thead>\n",
       "    <tr style=\"text-align: right;\">\n",
       "      <th></th>\n",
       "      <th>cons_images</th>\n",
       "      <th>00002-3228-30_PART_1_OF_1_CHAL10_SB_391E1C80.jpg</th>\n",
       "      <th>00002-3228-30_PART_1_OF_1_CHAL10_SF_391E1C80.jpg</th>\n",
       "      <th>00002-3229-30_PART_1_OF_1_CHAL10_SB_3E1E1F50.jpg</th>\n",
       "      <th>00002-3229-30_PART_1_OF_1_CHAL10_SF_3E1E1F50.jpg</th>\n",
       "      <th>00002-3238-30_PART_1_OF_1_CHAL10_SB_361E1B30.jpg</th>\n",
       "      <th>00002-3238-30_PART_1_OF_1_CHAL10_SF_361E1B30.jpg</th>\n",
       "      <th>00002-3239-30_PART_1_OF_1_CHAL10_SB_3F1E1F80.jpg</th>\n",
       "      <th>00002-3239-30_PART_1_OF_1_CHAL10_SF_3F1E1F80.jpg</th>\n",
       "      <th>00002-3250-30_PART_1_OF_1_CHAL10_SB_431E21C1.jpg</th>\n",
       "      <th>...</th>\n",
       "      <th>00173-0178-55_PART_1_OF_1_CHAL10_SB_AF18D7A6.jpg</th>\n",
       "      <th>00173-0178-55_PART_1_OF_1_CHAL10_SF_AF18D7A6.jpg</th>\n",
       "      <th>00173-0556-02_PART_1_OF_1_CHAL10_SB_251912B8.jpg</th>\n",
       "      <th>00173-0556-02_PART_1_OF_1_CHAL10_SF_251912B8.jpg</th>\n",
       "      <th>00173-0561-00_PART_1_OF_1_CHAL10_SB_97194BBA.jpg</th>\n",
       "      <th>00173-0561-00_PART_1_OF_1_CHAL10_SF_97194BBA.jpg</th>\n",
       "      <th>00173-0562-00_PART_1_OF_1_CHAL10_SB_A01C5002.jpg</th>\n",
       "      <th>00173-0562-00_PART_1_OF_1_CHAL10_SF_A01C5002.jpg</th>\n",
       "      <th>00173-0565-04_PART_1_OF_1_CHAL10_SB_461DA30D.jpg</th>\n",
       "      <th>00173-0565-04_PART_1_OF_1_CHAL10_SF_461DA30D.jpg</th>\n",
       "    </tr>\n",
       "  </thead>\n",
       "  <tbody>\n",
       "    <tr>\n",
       "      <th>0</th>\n",
       "      <td>0.jpg</td>\n",
       "      <td>NaN</td>\n",
       "      <td>NaN</td>\n",
       "      <td>NaN</td>\n",
       "      <td>NaN</td>\n",
       "      <td>NaN</td>\n",
       "      <td>NaN</td>\n",
       "      <td>NaN</td>\n",
       "      <td>NaN</td>\n",
       "      <td>NaN</td>\n",
       "      <td>...</td>\n",
       "      <td>NaN</td>\n",
       "      <td>NaN</td>\n",
       "      <td>NaN</td>\n",
       "      <td>NaN</td>\n",
       "      <td>NaN</td>\n",
       "      <td>NaN</td>\n",
       "      <td>NaN</td>\n",
       "      <td>NaN</td>\n",
       "      <td>NaN</td>\n",
       "      <td>NaN</td>\n",
       "    </tr>\n",
       "    <tr>\n",
       "      <th>1</th>\n",
       "      <td>1.jpg</td>\n",
       "      <td>NaN</td>\n",
       "      <td>NaN</td>\n",
       "      <td>NaN</td>\n",
       "      <td>NaN</td>\n",
       "      <td>NaN</td>\n",
       "      <td>NaN</td>\n",
       "      <td>NaN</td>\n",
       "      <td>NaN</td>\n",
       "      <td>NaN</td>\n",
       "      <td>...</td>\n",
       "      <td>NaN</td>\n",
       "      <td>NaN</td>\n",
       "      <td>NaN</td>\n",
       "      <td>NaN</td>\n",
       "      <td>NaN</td>\n",
       "      <td>NaN</td>\n",
       "      <td>NaN</td>\n",
       "      <td>NaN</td>\n",
       "      <td>NaN</td>\n",
       "      <td>NaN</td>\n",
       "    </tr>\n",
       "    <tr>\n",
       "      <th>2</th>\n",
       "      <td>10.jpg</td>\n",
       "      <td>NaN</td>\n",
       "      <td>NaN</td>\n",
       "      <td>NaN</td>\n",
       "      <td>NaN</td>\n",
       "      <td>NaN</td>\n",
       "      <td>NaN</td>\n",
       "      <td>NaN</td>\n",
       "      <td>NaN</td>\n",
       "      <td>NaN</td>\n",
       "      <td>...</td>\n",
       "      <td>NaN</td>\n",
       "      <td>NaN</td>\n",
       "      <td>NaN</td>\n",
       "      <td>NaN</td>\n",
       "      <td>NaN</td>\n",
       "      <td>NaN</td>\n",
       "      <td>NaN</td>\n",
       "      <td>NaN</td>\n",
       "      <td>NaN</td>\n",
       "      <td>NaN</td>\n",
       "    </tr>\n",
       "    <tr>\n",
       "      <th>3</th>\n",
       "      <td>100.jpg</td>\n",
       "      <td>NaN</td>\n",
       "      <td>NaN</td>\n",
       "      <td>NaN</td>\n",
       "      <td>NaN</td>\n",
       "      <td>NaN</td>\n",
       "      <td>NaN</td>\n",
       "      <td>NaN</td>\n",
       "      <td>NaN</td>\n",
       "      <td>NaN</td>\n",
       "      <td>...</td>\n",
       "      <td>NaN</td>\n",
       "      <td>NaN</td>\n",
       "      <td>NaN</td>\n",
       "      <td>NaN</td>\n",
       "      <td>NaN</td>\n",
       "      <td>NaN</td>\n",
       "      <td>NaN</td>\n",
       "      <td>NaN</td>\n",
       "      <td>NaN</td>\n",
       "      <td>NaN</td>\n",
       "    </tr>\n",
       "    <tr>\n",
       "      <th>4</th>\n",
       "      <td>1000.jpg</td>\n",
       "      <td>NaN</td>\n",
       "      <td>NaN</td>\n",
       "      <td>NaN</td>\n",
       "      <td>NaN</td>\n",
       "      <td>NaN</td>\n",
       "      <td>NaN</td>\n",
       "      <td>NaN</td>\n",
       "      <td>NaN</td>\n",
       "      <td>NaN</td>\n",
       "      <td>...</td>\n",
       "      <td>NaN</td>\n",
       "      <td>NaN</td>\n",
       "      <td>NaN</td>\n",
       "      <td>NaN</td>\n",
       "      <td>NaN</td>\n",
       "      <td>NaN</td>\n",
       "      <td>NaN</td>\n",
       "      <td>NaN</td>\n",
       "      <td>NaN</td>\n",
       "      <td>NaN</td>\n",
       "    </tr>\n",
       "    <tr>\n",
       "      <th>5</th>\n",
       "      <td>1001.jpg</td>\n",
       "      <td>NaN</td>\n",
       "      <td>NaN</td>\n",
       "      <td>NaN</td>\n",
       "      <td>NaN</td>\n",
       "      <td>NaN</td>\n",
       "      <td>NaN</td>\n",
       "      <td>NaN</td>\n",
       "      <td>NaN</td>\n",
       "      <td>NaN</td>\n",
       "      <td>...</td>\n",
       "      <td>NaN</td>\n",
       "      <td>NaN</td>\n",
       "      <td>NaN</td>\n",
       "      <td>NaN</td>\n",
       "      <td>NaN</td>\n",
       "      <td>NaN</td>\n",
       "      <td>NaN</td>\n",
       "      <td>NaN</td>\n",
       "      <td>NaN</td>\n",
       "      <td>NaN</td>\n",
       "    </tr>\n",
       "    <tr>\n",
       "      <th>6</th>\n",
       "      <td>1002.jpg</td>\n",
       "      <td>NaN</td>\n",
       "      <td>NaN</td>\n",
       "      <td>NaN</td>\n",
       "      <td>NaN</td>\n",
       "      <td>NaN</td>\n",
       "      <td>NaN</td>\n",
       "      <td>NaN</td>\n",
       "      <td>NaN</td>\n",
       "      <td>NaN</td>\n",
       "      <td>...</td>\n",
       "      <td>NaN</td>\n",
       "      <td>NaN</td>\n",
       "      <td>NaN</td>\n",
       "      <td>NaN</td>\n",
       "      <td>NaN</td>\n",
       "      <td>NaN</td>\n",
       "      <td>NaN</td>\n",
       "      <td>NaN</td>\n",
       "      <td>NaN</td>\n",
       "      <td>NaN</td>\n",
       "    </tr>\n",
       "    <tr>\n",
       "      <th>7</th>\n",
       "      <td>1003.jpg</td>\n",
       "      <td>NaN</td>\n",
       "      <td>NaN</td>\n",
       "      <td>NaN</td>\n",
       "      <td>NaN</td>\n",
       "      <td>NaN</td>\n",
       "      <td>NaN</td>\n",
       "      <td>NaN</td>\n",
       "      <td>NaN</td>\n",
       "      <td>NaN</td>\n",
       "      <td>...</td>\n",
       "      <td>NaN</td>\n",
       "      <td>NaN</td>\n",
       "      <td>NaN</td>\n",
       "      <td>NaN</td>\n",
       "      <td>NaN</td>\n",
       "      <td>NaN</td>\n",
       "      <td>NaN</td>\n",
       "      <td>NaN</td>\n",
       "      <td>NaN</td>\n",
       "      <td>NaN</td>\n",
       "    </tr>\n",
       "    <tr>\n",
       "      <th>8</th>\n",
       "      <td>1004.jpg</td>\n",
       "      <td>NaN</td>\n",
       "      <td>NaN</td>\n",
       "      <td>NaN</td>\n",
       "      <td>NaN</td>\n",
       "      <td>NaN</td>\n",
       "      <td>NaN</td>\n",
       "      <td>NaN</td>\n",
       "      <td>NaN</td>\n",
       "      <td>NaN</td>\n",
       "      <td>...</td>\n",
       "      <td>NaN</td>\n",
       "      <td>NaN</td>\n",
       "      <td>NaN</td>\n",
       "      <td>NaN</td>\n",
       "      <td>NaN</td>\n",
       "      <td>NaN</td>\n",
       "      <td>NaN</td>\n",
       "      <td>NaN</td>\n",
       "      <td>NaN</td>\n",
       "      <td>NaN</td>\n",
       "    </tr>\n",
       "    <tr>\n",
       "      <th>9</th>\n",
       "      <td>1005.jpg</td>\n",
       "      <td>NaN</td>\n",
       "      <td>NaN</td>\n",
       "      <td>NaN</td>\n",
       "      <td>NaN</td>\n",
       "      <td>NaN</td>\n",
       "      <td>NaN</td>\n",
       "      <td>NaN</td>\n",
       "      <td>NaN</td>\n",
       "      <td>NaN</td>\n",
       "      <td>...</td>\n",
       "      <td>NaN</td>\n",
       "      <td>NaN</td>\n",
       "      <td>NaN</td>\n",
       "      <td>NaN</td>\n",
       "      <td>NaN</td>\n",
       "      <td>NaN</td>\n",
       "      <td>NaN</td>\n",
       "      <td>NaN</td>\n",
       "      <td>NaN</td>\n",
       "      <td>NaN</td>\n",
       "    </tr>\n",
       "  </tbody>\n",
       "</table>\n",
       "<p>10 rows × 1001 columns</p>\n",
       "</div>"
      ],
      "text/plain": [
       "  cons_images 00002-3228-30_PART_1_OF_1_CHAL10_SB_391E1C80.jpg  \\\n",
       "0       0.jpg                                              NaN   \n",
       "1       1.jpg                                              NaN   \n",
       "2      10.jpg                                              NaN   \n",
       "3     100.jpg                                              NaN   \n",
       "4    1000.jpg                                              NaN   \n",
       "5    1001.jpg                                              NaN   \n",
       "6    1002.jpg                                              NaN   \n",
       "7    1003.jpg                                              NaN   \n",
       "8    1004.jpg                                              NaN   \n",
       "9    1005.jpg                                              NaN   \n",
       "\n",
       "  00002-3228-30_PART_1_OF_1_CHAL10_SF_391E1C80.jpg  \\\n",
       "0                                              NaN   \n",
       "1                                              NaN   \n",
       "2                                              NaN   \n",
       "3                                              NaN   \n",
       "4                                              NaN   \n",
       "5                                              NaN   \n",
       "6                                              NaN   \n",
       "7                                              NaN   \n",
       "8                                              NaN   \n",
       "9                                              NaN   \n",
       "\n",
       "  00002-3229-30_PART_1_OF_1_CHAL10_SB_3E1E1F50.jpg  \\\n",
       "0                                              NaN   \n",
       "1                                              NaN   \n",
       "2                                              NaN   \n",
       "3                                              NaN   \n",
       "4                                              NaN   \n",
       "5                                              NaN   \n",
       "6                                              NaN   \n",
       "7                                              NaN   \n",
       "8                                              NaN   \n",
       "9                                              NaN   \n",
       "\n",
       "  00002-3229-30_PART_1_OF_1_CHAL10_SF_3E1E1F50.jpg  \\\n",
       "0                                              NaN   \n",
       "1                                              NaN   \n",
       "2                                              NaN   \n",
       "3                                              NaN   \n",
       "4                                              NaN   \n",
       "5                                              NaN   \n",
       "6                                              NaN   \n",
       "7                                              NaN   \n",
       "8                                              NaN   \n",
       "9                                              NaN   \n",
       "\n",
       "  00002-3238-30_PART_1_OF_1_CHAL10_SB_361E1B30.jpg  \\\n",
       "0                                              NaN   \n",
       "1                                              NaN   \n",
       "2                                              NaN   \n",
       "3                                              NaN   \n",
       "4                                              NaN   \n",
       "5                                              NaN   \n",
       "6                                              NaN   \n",
       "7                                              NaN   \n",
       "8                                              NaN   \n",
       "9                                              NaN   \n",
       "\n",
       "  00002-3238-30_PART_1_OF_1_CHAL10_SF_361E1B30.jpg  \\\n",
       "0                                              NaN   \n",
       "1                                              NaN   \n",
       "2                                              NaN   \n",
       "3                                              NaN   \n",
       "4                                              NaN   \n",
       "5                                              NaN   \n",
       "6                                              NaN   \n",
       "7                                              NaN   \n",
       "8                                              NaN   \n",
       "9                                              NaN   \n",
       "\n",
       "  00002-3239-30_PART_1_OF_1_CHAL10_SB_3F1E1F80.jpg  \\\n",
       "0                                              NaN   \n",
       "1                                              NaN   \n",
       "2                                              NaN   \n",
       "3                                              NaN   \n",
       "4                                              NaN   \n",
       "5                                              NaN   \n",
       "6                                              NaN   \n",
       "7                                              NaN   \n",
       "8                                              NaN   \n",
       "9                                              NaN   \n",
       "\n",
       "  00002-3239-30_PART_1_OF_1_CHAL10_SF_3F1E1F80.jpg  \\\n",
       "0                                              NaN   \n",
       "1                                              NaN   \n",
       "2                                              NaN   \n",
       "3                                              NaN   \n",
       "4                                              NaN   \n",
       "5                                              NaN   \n",
       "6                                              NaN   \n",
       "7                                              NaN   \n",
       "8                                              NaN   \n",
       "9                                              NaN   \n",
       "\n",
       "  00002-3250-30_PART_1_OF_1_CHAL10_SB_431E21C1.jpg  \\\n",
       "0                                              NaN   \n",
       "1                                              NaN   \n",
       "2                                              NaN   \n",
       "3                                              NaN   \n",
       "4                                              NaN   \n",
       "5                                              NaN   \n",
       "6                                              NaN   \n",
       "7                                              NaN   \n",
       "8                                              NaN   \n",
       "9                                              NaN   \n",
       "\n",
       "                        ...                         \\\n",
       "0                       ...                          \n",
       "1                       ...                          \n",
       "2                       ...                          \n",
       "3                       ...                          \n",
       "4                       ...                          \n",
       "5                       ...                          \n",
       "6                       ...                          \n",
       "7                       ...                          \n",
       "8                       ...                          \n",
       "9                       ...                          \n",
       "\n",
       "  00173-0178-55_PART_1_OF_1_CHAL10_SB_AF18D7A6.jpg  \\\n",
       "0                                              NaN   \n",
       "1                                              NaN   \n",
       "2                                              NaN   \n",
       "3                                              NaN   \n",
       "4                                              NaN   \n",
       "5                                              NaN   \n",
       "6                                              NaN   \n",
       "7                                              NaN   \n",
       "8                                              NaN   \n",
       "9                                              NaN   \n",
       "\n",
       "  00173-0178-55_PART_1_OF_1_CHAL10_SF_AF18D7A6.jpg  \\\n",
       "0                                              NaN   \n",
       "1                                              NaN   \n",
       "2                                              NaN   \n",
       "3                                              NaN   \n",
       "4                                              NaN   \n",
       "5                                              NaN   \n",
       "6                                              NaN   \n",
       "7                                              NaN   \n",
       "8                                              NaN   \n",
       "9                                              NaN   \n",
       "\n",
       "  00173-0556-02_PART_1_OF_1_CHAL10_SB_251912B8.jpg  \\\n",
       "0                                              NaN   \n",
       "1                                              NaN   \n",
       "2                                              NaN   \n",
       "3                                              NaN   \n",
       "4                                              NaN   \n",
       "5                                              NaN   \n",
       "6                                              NaN   \n",
       "7                                              NaN   \n",
       "8                                              NaN   \n",
       "9                                              NaN   \n",
       "\n",
       "  00173-0556-02_PART_1_OF_1_CHAL10_SF_251912B8.jpg  \\\n",
       "0                                              NaN   \n",
       "1                                              NaN   \n",
       "2                                              NaN   \n",
       "3                                              NaN   \n",
       "4                                              NaN   \n",
       "5                                              NaN   \n",
       "6                                              NaN   \n",
       "7                                              NaN   \n",
       "8                                              NaN   \n",
       "9                                              NaN   \n",
       "\n",
       "  00173-0561-00_PART_1_OF_1_CHAL10_SB_97194BBA.jpg  \\\n",
       "0                                              NaN   \n",
       "1                                              NaN   \n",
       "2                                              NaN   \n",
       "3                                              NaN   \n",
       "4                                              NaN   \n",
       "5                                              NaN   \n",
       "6                                              NaN   \n",
       "7                                              NaN   \n",
       "8                                              NaN   \n",
       "9                                              NaN   \n",
       "\n",
       "  00173-0561-00_PART_1_OF_1_CHAL10_SF_97194BBA.jpg  \\\n",
       "0                                              NaN   \n",
       "1                                              NaN   \n",
       "2                                              NaN   \n",
       "3                                              NaN   \n",
       "4                                              NaN   \n",
       "5                                              NaN   \n",
       "6                                              NaN   \n",
       "7                                              NaN   \n",
       "8                                              NaN   \n",
       "9                                              NaN   \n",
       "\n",
       "  00173-0562-00_PART_1_OF_1_CHAL10_SB_A01C5002.jpg  \\\n",
       "0                                              NaN   \n",
       "1                                              NaN   \n",
       "2                                              NaN   \n",
       "3                                              NaN   \n",
       "4                                              NaN   \n",
       "5                                              NaN   \n",
       "6                                              NaN   \n",
       "7                                              NaN   \n",
       "8                                              NaN   \n",
       "9                                              NaN   \n",
       "\n",
       "  00173-0562-00_PART_1_OF_1_CHAL10_SF_A01C5002.jpg  \\\n",
       "0                                              NaN   \n",
       "1                                              NaN   \n",
       "2                                              NaN   \n",
       "3                                              NaN   \n",
       "4                                              NaN   \n",
       "5                                              NaN   \n",
       "6                                              NaN   \n",
       "7                                              NaN   \n",
       "8                                              NaN   \n",
       "9                                              NaN   \n",
       "\n",
       "  00173-0565-04_PART_1_OF_1_CHAL10_SB_461DA30D.jpg  \\\n",
       "0                                              NaN   \n",
       "1                                              NaN   \n",
       "2                                              NaN   \n",
       "3                                              NaN   \n",
       "4                                              NaN   \n",
       "5                                              NaN   \n",
       "6                                              NaN   \n",
       "7                                              NaN   \n",
       "8                                              NaN   \n",
       "9                                              NaN   \n",
       "\n",
       "  00173-0565-04_PART_1_OF_1_CHAL10_SF_461DA30D.jpg  \n",
       "0                                              NaN  \n",
       "1                                              NaN  \n",
       "2                                              NaN  \n",
       "3                                              NaN  \n",
       "4                                              NaN  \n",
       "5                                              NaN  \n",
       "6                                              NaN  \n",
       "7                                              NaN  \n",
       "8                                              NaN  \n",
       "9                                              NaN  \n",
       "\n",
       "[10 rows x 1001 columns]"
      ]
     },
     "execution_count": 78,
     "metadata": {},
     "output_type": "execute_result"
    }
   ],
   "source": [
    "submission_dataframe.to_csv('nih_two.csv', index=False)\n",
    "submission_dataframe.head(10)"
   ]
  },
  {
   "cell_type": "code",
   "execution_count": null,
   "metadata": {},
   "outputs": [],
   "source": []
  }
 ],
 "metadata": {
  "gist": {
   "data": {
    "description": "fastai/courses/dl1/Nih_Playbook.ipynb",
    "public": false
   },
   "id": ""
  },
  "kernelspec": {
   "display_name": "Python 3",
   "language": "python",
   "name": "python3"
  },
  "language_info": {
   "codemirror_mode": {
    "name": "ipython",
    "version": 3
   },
   "file_extension": ".py",
   "mimetype": "text/x-python",
   "name": "python",
   "nbconvert_exporter": "python",
   "pygments_lexer": "ipython3",
   "version": "3.6.5"
  },
  "toc": {
   "colors": {
    "hover_highlight": "#DAA520",
    "navigate_num": "#000000",
    "navigate_text": "#333333",
    "running_highlight": "#FF0000",
    "selected_highlight": "#FFD700",
    "sidebar_border": "#EEEEEE",
    "wrapper_background": "#FFFFFF"
   },
   "moveMenuLeft": true,
   "nav_menu": {
    "height": "99px",
    "width": "252px"
   },
   "navigate_menu": true,
   "number_sections": true,
   "sideBar": true,
   "threshold": 4,
   "toc_cell": false,
   "toc_section_display": "block",
   "toc_window_display": false,
   "widenNotebook": false
  }
 },
 "nbformat": 4,
 "nbformat_minor": 2
}
